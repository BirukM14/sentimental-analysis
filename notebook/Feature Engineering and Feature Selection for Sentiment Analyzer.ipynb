{
 "cells": [
  {
   "cell_type": "code",
   "execution_count": 1,
   "metadata": {},
   "outputs": [],
   "source": [
    "import numpy as np\n",
    "import pandas as pd\n",
    "import seaborn as sns\n",
    "import matplotlib.pyplot as plt\n",
    "import plotly.express as px\n",
    "import nltk\n",
    "from sklearn.feature_extraction.text import CountVectorizer\n",
    "from wordcloud import WordCloud,STOPWORDS\n",
    "from nltk.stem import WordNetLemmatizer\n",
    "from nltk.tokenize import word_tokenize\n",
    "import re,string,unicodedata\n",
    "from sklearn.metrics import classification_report,confusion_matrix,accuracy_score,f1_score\n",
    "from sklearn.model_selection import train_test_split\n",
    "from string import punctuation\n",
    "from nltk import pos_tag\n",
    "from nltk.corpus import wordnet\n",
    "import re\n",
    "import warnings\n",
    "warnings.filterwarnings('ignore')\n",
    "import matplotlib.pyplot as plt"
   ]
  },
  {
   "cell_type": "code",
   "execution_count": 2,
   "metadata": {},
   "outputs": [
    {
     "name": "stdout",
     "output_type": "stream",
     "text": [
      "CPU times: total: 1.14 s\n",
      "Wall time: 3.87 s\n"
     ]
    }
   ],
   "source": [
    "%%time\n",
    "df = pd.read_csv(r'C:\\Users\\Z PC\\Documents\\sentimental-analysis\\IMDB-Dataset.csv')"
   ]
  },
  {
   "cell_type": "code",
   "execution_count": 3,
   "metadata": {},
   "outputs": [
    {
     "name": "stdout",
     "output_type": "stream",
     "text": [
      "{'how', 'these', 'for', 'does', \"won't\", 'do', 'only', 'each', 're', \"haven't\", 'their', 'through', 'some', 't', 'then', 'now', 'wasn', 'shan', \"hadn't\", 'hasn', 'same', 'out', 'below', 'up', 'don', 'm', 'himself', 'your', 'in', 'doing', 'its', 'into', \"weren't\", 'a', \"isn't\", \"shan't\", 'against', 'didn', 'he', \"you'll\", 'was', 'until', 'hers', 'myself', 'because', 'from', \"mightn't\", 'on', 'with', 'about', 'again', 'aren', \"it's\", 'during', \"you've\", \"you'd\", 'been', 'when', \"you're\", 'o', 'itself', 'of', 'you', 'just', 'should', 'll', 'has', 'once', 's', 'be', 'at', 'those', 'the', 'y', 'no', \"that'll\", 'this', \"wouldn't\", 'having', 'am', 'while', 'above', 'my', 'theirs', 'it', 'but', 'our', 'his', 'couldn', 'she', \"hasn't\", 'isn', 'shouldn', \"shouldn't\", 'i', 'mightn', 'weren', 'down', 'to', 'that', 'if', 'very', \"needn't\", 'hadn', 'could', 'both', 'ours', \"couldn't\", 'wouldn', 'whom', 'her', \"should've\", 'an', 'will', 'doesn', 'herself', 'd', 'yours', 'them', 'needn', \"don't\", 'as', 'there', 'so', 'between', 'is', 'being', 'yourself', 'were', \"wasn't\", 'and', 've', 'haven', 'shall', 'had', 'more', 'are', 'few', \"aren't\", 'won', 'most', \"she's\", 'after', 'can', 'than', \"mustn't\", 'who', 'over', 'off', 'any', 'under', \"didn't\", 'before', 'such', 'all', 'ma', 'nor', 'too', 'we', 'other', 'by', 'me', 'have', 'they', 'where', 'or', 'here', 'would', 'ain', 'themselves', 'mustn', 'might', 'further', \"doesn't\", 'yourselves', 'did', 'which', 'own', 'why', 'what', 'him', 'ourselves'}\n"
     ]
    }
   ],
   "source": [
    "#Customize stopword as per data\n",
    "from nltk.corpus import stopwords\n",
    "stop_words = stopwords.words('english')\n",
    "new_stopwords = [\"would\",\"shall\",\"could\",\"might\"]\n",
    "stop_words.extend(new_stopwords)\n",
    "stop_words.remove(\"not\")\n",
    "stop_words=set(stop_words)\n",
    "print(stop_words)"
   ]
  },
  {
   "cell_type": "code",
   "execution_count": 4,
   "metadata": {},
   "outputs": [],
   "source": [
    "'''-----------------------------Data Cleaning and Preprocessing pipeline----------------------------------'''\n",
    "\n",
    "#Removing special character\n",
    "def remove_special_character(content):\n",
    "    return re.sub('\\W+',' ', content )#re.sub('\\[[^&@#!]]*\\]', '', content)\n",
    "\n",
    "# Removing URL's\n",
    "def remove_url(content):\n",
    "    return re.sub(r'http\\S+', '', content)\n",
    "\n",
    "#Removing the stopwords from text\n",
    "def remove_stopwords(content):\n",
    "    clean_data = []\n",
    "    for i in content.split():\n",
    "        if i.strip().lower() not in stop_words and i.strip().lower().isalpha():\n",
    "            clean_data.append(i.strip().lower())\n",
    "    return \" \".join(clean_data)\n",
    "\n",
    "# Expansion of english contractions\n",
    "def contraction_expansion(content):\n",
    "    content = re.sub(r\"won\\'t\", \"would not\", content)\n",
    "    content = re.sub(r\"can\\'t\", \"can not\", content)\n",
    "    content = re.sub(r\"don\\'t\", \"do not\", content)\n",
    "    content = re.sub(r\"shouldn\\'t\", \"should not\", content)\n",
    "    content = re.sub(r\"needn\\'t\", \"need not\", content)\n",
    "    content = re.sub(r\"hasn\\'t\", \"has not\", content)\n",
    "    content = re.sub(r\"haven\\'t\", \"have not\", content)\n",
    "    content = re.sub(r\"weren\\'t\", \"were not\", content)\n",
    "    content = re.sub(r\"mightn\\'t\", \"might not\", content)\n",
    "    content = re.sub(r\"didn\\'t\", \"did not\", content)\n",
    "    content = re.sub(r\"n\\'t\", \" not\", content)\n",
    "    '''content = re.sub(r\"\\'re\", \" are\", content)\n",
    "    content = re.sub(r\"\\'s\", \" is\", content)\n",
    "    content = re.sub(r\"\\'d\", \" would\", content)\n",
    "    content = re.sub(r\"\\'ll\", \" will\", content)\n",
    "    content = re.sub(r\"\\'t\", \" not\", content)\n",
    "    content = re.sub(r\"\\'ve\", \" have\", content)\n",
    "    content = re.sub(r\"\\'m\", \" am\", content)'''\n",
    "    return content\n",
    "\n",
    "#Data preprocessing\n",
    "def data_cleaning(content):\n",
    "    content = contraction_expansion(content)\n",
    "    content = remove_special_character(content)\n",
    "    content = remove_url(content)\n",
    "    \n",
    "    content = remove_stopwords(content)    \n",
    "    return content"
   ]
  },
  {
   "cell_type": "code",
   "execution_count": 5,
   "metadata": {},
   "outputs": [
    {
     "name": "stdout",
     "output_type": "stream",
     "text": [
      "CPU times: total: 6.95 s\n",
      "Wall time: 21 s\n"
     ]
    },
    {
     "data": {
      "text/html": [
       "<div>\n",
       "<style scoped>\n",
       "    .dataframe tbody tr th:only-of-type {\n",
       "        vertical-align: middle;\n",
       "    }\n",
       "\n",
       "    .dataframe tbody tr th {\n",
       "        vertical-align: top;\n",
       "    }\n",
       "\n",
       "    .dataframe thead th {\n",
       "        text-align: right;\n",
       "    }\n",
       "</style>\n",
       "<table border=\"1\" class=\"dataframe\">\n",
       "  <thead>\n",
       "    <tr style=\"text-align: right;\">\n",
       "      <th></th>\n",
       "      <th>Ratings</th>\n",
       "      <th>Reviews</th>\n",
       "      <th>Movies</th>\n",
       "      <th>Resenhas</th>\n",
       "      <th>Reviews_clean</th>\n",
       "    </tr>\n",
       "  </thead>\n",
       "  <tbody>\n",
       "    <tr>\n",
       "      <th>0</th>\n",
       "      <td>1.0</td>\n",
       "      <td>*Disclaimer: I only watched this movie as a conditional agreement. And I see films for free. I wouldn't be caught dead giving my hard earned money to these idiots.Well, to explain the depth of this 'film', I could write my shortest review, ever. Don't see this movie. It is by far the stupidest, lamest, most lazy, and unbelievably UNFUNNY movie I have ever seen. It is a total disaster. But since my hatred for this movie, and the others like it, extends far beyond one viewing, I think I'll go on for a bit.I don't know any of the people in the movie besides Carmen Electra, Vanessa Minnillo, and Kim Kardashian, but it doesn't matter. They're all horrible, though I think that was the point. The editing is flat out horrible, and possibly blatant continuity errors make this crapfast even crappier than I thought it would be. Now I know that these films are not supposed to be serious at all, but come on, it's film-making 101 that if someone gets a minor facial cut, it should be there in the...</td>\n",
       "      <td>Disaster Movie</td>\n",
       "      <td>* Isenção de responsabilidade: eu só assisti esse filme como um acordo condicional. E eu vejo filmes de graça. Eu não seria pego morto dando meu dinheiro suado a esses idiotas. Bem, para explicar a profundidade desse 'filme', eu poderia escrever minha crítica mais curta de todos os tempos. Não vê este filme. É de longe o filme mais estúpido, lamenta, preguiçoso e inacreditavelmente UNFUNNY que eu já vi. É um desastre total. Mas como o meu ódio por este filme e por outros, se estende muito além de uma exibição, acho que vou continuar um pouco. Não conheço nenhuma das pessoas do filme além de Carmen Electra, Vanessa Minnillo, e Kim Kardashian, mas isso não importa. Eles são todos horríveis, embora eu ache que esse seja o ponto. A edição é horrível e, possivelmente, erros de continuidade flagrantes tornam essa porcaria ainda mais horrível do que eu pensava. Agora eu sei que esses filmes não devem ser sérios, mas vamos lá, é o cinema 101 que se alguém fizer um pequeno corte facial, ele...</td>\n",
       "      <td>disclaimer watched movie conditional agreement see films free not caught dead giving hard earned money idiots well explain depth film write shortest review ever not see movie far stupidest lamest lazy unbelievably unfunny movie ever seen total disaster since hatred movie others like extends far beyond one viewing think go bit not know people movie besides carmen electra vanessa minnillo kim kardashian not matter horrible though think point editing flat horrible possibly blatant continuity errors make crapfast even crappier thought know films not supposed serious come film making someone gets minor facial cut next shot someone gets cut sword blood least cut though since narnia films get away give disaster movie pass jokes thoughtless mindless physical gags obviously take popular movies last year late well including best picture nominees know saddest thing stupid movies not care much money make many cameos sorry ass excuses films taking away jobs actors writers directors truly deserv...</td>\n",
       "    </tr>\n",
       "    <tr>\n",
       "      <th>1</th>\n",
       "      <td>1.0</td>\n",
       "      <td>I am writing this in hopes that this gets put over the previous review of this \"film\". How anyone can find this slop entertaining is completely beyond me. First of all a spoof film entitled \"Disaster Movie\", should indeed be a spoof on disaster films. Now I have seen 1 (yes count them, 1) disaster film being spoofed, that being \"Twister\". How does Juno, Iron Man, Batman, The Hulk, Alvin and the Chipmunks, Amy Winehouse, or Hancock register as Disaster films? Selzterwater and Failburg once again have shown that they lack any sort of writing skill and humor. Having unfortunately been tortured with Date Movie and Epic Movie I know exactly what to expect from these two...no plot, no jokes just bad references and cheaply remade scenes from other films. Someone should have informed them that satire is more than just copy and paste from one film to another, though I shouldn't say that because some of these actually just seem to be taken from trailers.There is nothing clever or witty or re...</td>\n",
       "      <td>Disaster Movie</td>\n",
       "      <td>Estou escrevendo isso na esperança de que isso seja colocado sobre a revisão anterior deste \"filme\". Como alguém pode achar divertido esse desleixo está completamente além de mim. Antes de mais nada, um filme de paródia intitulado \"Filme de desastre\" deveria ser, de fato, uma paródia de filmes de desastre. Agora eu já vi 1 (sim, conte-os, 1) filme de desastre sendo falsificado, sendo \"Twister\". Como Juno, Homem de Ferro, Batman, O Hulk, Alvin e os Esquilos, Amy Winehouse ou Hancock se registram como filmes de Desastre? Selzterwater e Failburg mostraram mais uma vez que não possuem nenhum tipo de habilidade e humor de escrita. Infelizmente, tendo sido torturado com Date Movie e Epic Movie, sei exatamente o que esperar desses dois ... nenhum enredo, nenhuma piada, apenas más referências e cenas refeitas de outros filmes. Alguém deveria ter informado a eles que a sátira é mais do que apenas copiar e colar de um filme para outro, embora eu não deva dizer isso porque alguns deles realme...</td>\n",
       "      <td>writing hopes gets put previous review film anyone find slop entertaining completely beyond first spoof film entitled disaster movie indeed spoof disaster films seen yes count disaster film spoofed twister juno iron man batman hulk alvin chipmunks amy winehouse hancock register disaster films selzterwater failburg shown lack sort writing skill humor unfortunately tortured date movie epic movie know exactly expect two plot jokes bad references cheaply remade scenes films someone informed satire copy paste one film another though not say actually seem taken trailers nothing clever witty remotely smart way two write not believe people still pay see travesties insult audience though enjoy films doubt smart enough realize rating unfortunately not number low enough yes includes negatives rate deserves top worst films time right date movie epic faliure mean movie meet spartans rather forced hour manos hands fate marathon watch slop</td>\n",
       "    </tr>\n",
       "    <tr>\n",
       "      <th>2</th>\n",
       "      <td>1.0</td>\n",
       "      <td>Really, I could write a scathing review of this turd sandwich, but instead, I'm just going to be making a few observations and points I've deduced.There's just no point in watching these movies anymore. Does any reader out there remember Scary Movie? Remember how it was original with a few comedic elements to it? There was slapstick, some funny lines, it was a pretty forgettable comedy, but it was worth the price of admission. Well, That was the last time this premise was funny. STOP MAKING THESE MOVIES. PLEASE.I could call for a boycott of these pieces of monkey sh*t, but we all know there's going to be a line up of pre pubescent annoying little buggers, spouting crappy one liners like, \"THIS IS SPARTA!\" and, \"IM RICK JAMES BITCH\" so these movies will continue to make some form of monetary gain, considering the production value of this movie looks like it cost about 10 cents to make.Don't see this movie. Don't spend any money on it. Go home, rent Airplane, laugh your ass off, and ...</td>\n",
       "      <td>Disaster Movie</td>\n",
       "      <td>Realmente, eu poderia escrever uma crítica contundente sobre esse sanduíche de cocô, mas, em vez disso, vou fazer algumas observações e pontos que deduzi. Não há mais sentido assistir a esses filmes. Algum leitor por aí se lembra do filme de terror? Lembra como era original, com alguns elementos cômicos? Havia palhaçada, algumas frases engraçadas, era uma comédia bastante esquecível, mas valia o preço da entrada. Bem, essa foi a última vez que essa premissa foi engraçada. PARE DE FAZER ESTES FILMES. POR FAVOR, eu poderia pedir um boicote a esses pedaços de macaco, mas todos sabemos que haverá uma fila de buggers irritantes e pré-pubescentes, jorrando uns forros ruins como: \"ISTO É SPARTA!\" e \"IM RICK JAMES BITCH\", para que esses filmes continuem gerando algum ganho monetário, considerando que o valor de produção deste filme parece custar cerca de 10 centavos de dólar. Não gaste dinheiro com isso. Vá para casa, alugue a Airplane, ria e julgue silenciosamente as pessoas que estão fal...</td>\n",
       "      <td>really write scathing review turd sandwich instead going making observations points deduced point watching movies anymore reader remember scary movie remember original comedic elements slapstick funny lines pretty forgettable comedy worth price admission well last time premise funny stop making movies please call boycott pieces monkey sh know going line pre pubescent annoying little buggers spouting crappy one liners like sparta im rick james bitch movies continue make form monetary gain considering production value movie looks like cost cents make not see movie not spend money go home rent airplane laugh ass silently judge people talking movie monday favor</td>\n",
       "    </tr>\n",
       "    <tr>\n",
       "      <th>3</th>\n",
       "      <td>1.0</td>\n",
       "      <td>If you saw the other previous spoof movies by these two horrible gentlemen, then you should know that this already will be bad. I'll tell you the truth, if you want to watch it as a brainless person (ironically meant for the stereotypical teenagers, which I am not) then you will laugh at it a bit. But if you judge it, even a little, the movie automatically fails. Why? Never ask that when it comes to these two men.Remember the good old Hollywood days whenever making a movie was about showing people a type of art, and also a story that kept you on the edge of your seat? Well whenever word hit that making films earned you loads of cash, then all these greedy people came in the picture and its quite pathetic. These two are no exception. We still have movie artists (most notably the genius that is Christopher Nolan). But these two guys just...well I've been writing so big words, let me put it in simple terms for these guys...These guys suck, they are not artists, but instead money cravi...</td>\n",
       "      <td>Disaster Movie</td>\n",
       "      <td>Se você viu os outros filmes falsificados anteriores por esses dois senhores horríveis, deve saber que isso já será ruim. Vou lhe dizer a verdade, se você quiser vê-lo como uma pessoa sem cérebro (ironicamente para os adolescentes estereotipados, o que eu não sou), então você rirá um pouco. Mas se você julgar, mesmo que um pouco, o filme falha automaticamente. Por quê? Nunca pergunte isso quando se trata desses dois homens. Lembre-se dos bons e velhos tempos de Hollywood, sempre que fazer um filme era mostrar às pessoas um tipo de arte e também uma história que o mantinha na ponta do seu assento? Bem, sempre que a notícia de que fazer filmes ganhava muito dinheiro, então todas essas pessoas gananciosas apareciam na imagem e é bastante patético. Esses dois não são exceção. Ainda temos artistas de filmes (principalmente o gênio Christopher Nolan). Mas esses dois caras simplesmente ... bem, eu tenho escrito palavras tão grandes, deixe-me colocar em termos simples para esses caras ... ...</td>\n",
       "      <td>saw previous spoof movies two horrible gentlemen know already bad tell truth want watch brainless person ironically meant stereotypical teenagers not laugh bit judge even little movie automatically fails never ask comes two men remember good old hollywood days whenever making movie showing people type art also story kept edge seat well whenever word hit making films earned loads cash greedy people came picture quite pathetic two exception still movie artists notably genius christopher nolan two guys well writing big words let put simple terms guys guys suck not artists instead money craving whores latest movie proves even movie fails easily mind blowing mean nothing funny trailer people usually put best stuff like idiots sometimes knew going bad made bet friends not good idea write movie reviews paper tell everyone whats good whats bad friends flipped review well warning least not even called movie nothing artistic original jokes sorry references made throughout pretty much random ...</td>\n",
       "    </tr>\n",
       "    <tr>\n",
       "      <th>4</th>\n",
       "      <td>1.0</td>\n",
       "      <td>This movie I saw a day early for free and I still feel like I got ripped off. It is totally brain dead. Burping, kicking in the groin and boobs all over the place. Lame. What is wrong with society, that films like this even get made? The parodies were all horrendous, and un-funny. The plot was lackluster at best and the acting was shallow, transparent and really quite unnecessary.Anyone see \"Idiocracy\"? Remember the movie that won all the academy awards in the future? Well this is that movie. I have not seen a more rancid crappy film. \"Date Movie\" was okay, The Scary movies at least had decent plots, but this, this makes \"spoofs\" (if I can be so nice to call it that) for this year 0 for 3, with \"Meet the Spartans\" and \"Superhero Movie\" all falling flat.Well I've wasted even more of my life typing about this sack of cow dung. So all in all, don't see this movie, unless of course your IQ is below 80.Thanks, R</td>\n",
       "      <td>Disaster Movie</td>\n",
       "      <td>Este filme eu vi um dia cedo de graça e ainda sinto que fui enganado. É totalmente morte cerebral. Arrotando, chutando a virilha e os peitos por todo o lugar. Coxo. O que há de errado com a sociedade, que filmes como esse são feitos? As paródias eram todas horrendas e pouco engraçadas. O enredo foi sem brilho, na melhor das hipóteses, e a atuação foi superficial, transparente e realmente bastante desnecessária. Alguém vê \"Idiocracia\"? Lembra do filme que ganhou todos os prêmios da academia no futuro? Bem, este é esse filme. Eu não vi um filme de baixa qualidade mais rançoso. \"Date Movie\" foi bom, The Scary Movies pelo menos teve enredos decentes, mas isso faz \"spoofs\" (se é que posso dizer assim) para este ano 0 para 3, com \"Meet the Spartans\" e \"Filme de super-heróis\" todos caindo. Bem, eu perdi ainda mais da minha vida digitando sobre esse saco de esterco de vaca. Então, apesar de tudo, não assista a este filme, a menos que o seu QI seja inferior a 80.</td>\n",
       "      <td>movie saw day early free still feel like got ripped totally brain dead burping kicking groin boobs place lame wrong society films like even get made parodies horrendous un funny plot lackluster best acting shallow transparent really quite unnecessary anyone see idiocracy remember movie academy awards future well movie not seen rancid crappy film date movie okay scary movies least decent plots makes spoofs nice call year meet spartans superhero movie falling flat well wasted even life typing sack cow dung not see movie unless course iq thanks r</td>\n",
       "    </tr>\n",
       "  </tbody>\n",
       "</table>\n",
       "</div>"
      ],
      "text/plain": [
       "   Ratings  \\\n",
       "0      1.0   \n",
       "1      1.0   \n",
       "2      1.0   \n",
       "3      1.0   \n",
       "4      1.0   \n",
       "\n",
       "                                                                                                                                                                                                                                                                                                                                                                                                                                                                                                                                                                                                                                                                                                                                                                                                                                                                                                                                                                                                                                   Reviews  \\\n",
       "0  *Disclaimer: I only watched this movie as a conditional agreement. And I see films for free. I wouldn't be caught dead giving my hard earned money to these idiots.Well, to explain the depth of this 'film', I could write my shortest review, ever. Don't see this movie. It is by far the stupidest, lamest, most lazy, and unbelievably UNFUNNY movie I have ever seen. It is a total disaster. But since my hatred for this movie, and the others like it, extends far beyond one viewing, I think I'll go on for a bit.I don't know any of the people in the movie besides Carmen Electra, Vanessa Minnillo, and Kim Kardashian, but it doesn't matter. They're all horrible, though I think that was the point. The editing is flat out horrible, and possibly blatant continuity errors make this crapfast even crappier than I thought it would be. Now I know that these films are not supposed to be serious at all, but come on, it's film-making 101 that if someone gets a minor facial cut, it should be there in the...   \n",
       "1  I am writing this in hopes that this gets put over the previous review of this \"film\". How anyone can find this slop entertaining is completely beyond me. First of all a spoof film entitled \"Disaster Movie\", should indeed be a spoof on disaster films. Now I have seen 1 (yes count them, 1) disaster film being spoofed, that being \"Twister\". How does Juno, Iron Man, Batman, The Hulk, Alvin and the Chipmunks, Amy Winehouse, or Hancock register as Disaster films? Selzterwater and Failburg once again have shown that they lack any sort of writing skill and humor. Having unfortunately been tortured with Date Movie and Epic Movie I know exactly what to expect from these two...no plot, no jokes just bad references and cheaply remade scenes from other films. Someone should have informed them that satire is more than just copy and paste from one film to another, though I shouldn't say that because some of these actually just seem to be taken from trailers.There is nothing clever or witty or re...   \n",
       "2  Really, I could write a scathing review of this turd sandwich, but instead, I'm just going to be making a few observations and points I've deduced.There's just no point in watching these movies anymore. Does any reader out there remember Scary Movie? Remember how it was original with a few comedic elements to it? There was slapstick, some funny lines, it was a pretty forgettable comedy, but it was worth the price of admission. Well, That was the last time this premise was funny. STOP MAKING THESE MOVIES. PLEASE.I could call for a boycott of these pieces of monkey sh*t, but we all know there's going to be a line up of pre pubescent annoying little buggers, spouting crappy one liners like, \"THIS IS SPARTA!\" and, \"IM RICK JAMES BITCH\" so these movies will continue to make some form of monetary gain, considering the production value of this movie looks like it cost about 10 cents to make.Don't see this movie. Don't spend any money on it. Go home, rent Airplane, laugh your ass off, and ...   \n",
       "3  If you saw the other previous spoof movies by these two horrible gentlemen, then you should know that this already will be bad. I'll tell you the truth, if you want to watch it as a brainless person (ironically meant for the stereotypical teenagers, which I am not) then you will laugh at it a bit. But if you judge it, even a little, the movie automatically fails. Why? Never ask that when it comes to these two men.Remember the good old Hollywood days whenever making a movie was about showing people a type of art, and also a story that kept you on the edge of your seat? Well whenever word hit that making films earned you loads of cash, then all these greedy people came in the picture and its quite pathetic. These two are no exception. We still have movie artists (most notably the genius that is Christopher Nolan). But these two guys just...well I've been writing so big words, let me put it in simple terms for these guys...These guys suck, they are not artists, but instead money cravi...   \n",
       "4                                                                                 This movie I saw a day early for free and I still feel like I got ripped off. It is totally brain dead. Burping, kicking in the groin and boobs all over the place. Lame. What is wrong with society, that films like this even get made? The parodies were all horrendous, and un-funny. The plot was lackluster at best and the acting was shallow, transparent and really quite unnecessary.Anyone see \"Idiocracy\"? Remember the movie that won all the academy awards in the future? Well this is that movie. I have not seen a more rancid crappy film. \"Date Movie\" was okay, The Scary movies at least had decent plots, but this, this makes \"spoofs\" (if I can be so nice to call it that) for this year 0 for 3, with \"Meet the Spartans\" and \"Superhero Movie\" all falling flat.Well I've wasted even more of my life typing about this sack of cow dung. So all in all, don't see this movie, unless of course your IQ is below 80.Thanks, R   \n",
       "\n",
       "           Movies  \\\n",
       "0  Disaster Movie   \n",
       "1  Disaster Movie   \n",
       "2  Disaster Movie   \n",
       "3  Disaster Movie   \n",
       "4  Disaster Movie   \n",
       "\n",
       "                                                                                                                                                                                                                                                                                                                                                                                                                                                                                                                                                                                                                                                                                                                                                                                                                                                                                                                                                                                                                                  Resenhas  \\\n",
       "0  * Isenção de responsabilidade: eu só assisti esse filme como um acordo condicional. E eu vejo filmes de graça. Eu não seria pego morto dando meu dinheiro suado a esses idiotas. Bem, para explicar a profundidade desse 'filme', eu poderia escrever minha crítica mais curta de todos os tempos. Não vê este filme. É de longe o filme mais estúpido, lamenta, preguiçoso e inacreditavelmente UNFUNNY que eu já vi. É um desastre total. Mas como o meu ódio por este filme e por outros, se estende muito além de uma exibição, acho que vou continuar um pouco. Não conheço nenhuma das pessoas do filme além de Carmen Electra, Vanessa Minnillo, e Kim Kardashian, mas isso não importa. Eles são todos horríveis, embora eu ache que esse seja o ponto. A edição é horrível e, possivelmente, erros de continuidade flagrantes tornam essa porcaria ainda mais horrível do que eu pensava. Agora eu sei que esses filmes não devem ser sérios, mas vamos lá, é o cinema 101 que se alguém fizer um pequeno corte facial, ele...   \n",
       "1  Estou escrevendo isso na esperança de que isso seja colocado sobre a revisão anterior deste \"filme\". Como alguém pode achar divertido esse desleixo está completamente além de mim. Antes de mais nada, um filme de paródia intitulado \"Filme de desastre\" deveria ser, de fato, uma paródia de filmes de desastre. Agora eu já vi 1 (sim, conte-os, 1) filme de desastre sendo falsificado, sendo \"Twister\". Como Juno, Homem de Ferro, Batman, O Hulk, Alvin e os Esquilos, Amy Winehouse ou Hancock se registram como filmes de Desastre? Selzterwater e Failburg mostraram mais uma vez que não possuem nenhum tipo de habilidade e humor de escrita. Infelizmente, tendo sido torturado com Date Movie e Epic Movie, sei exatamente o que esperar desses dois ... nenhum enredo, nenhuma piada, apenas más referências e cenas refeitas de outros filmes. Alguém deveria ter informado a eles que a sátira é mais do que apenas copiar e colar de um filme para outro, embora eu não deva dizer isso porque alguns deles realme...   \n",
       "2  Realmente, eu poderia escrever uma crítica contundente sobre esse sanduíche de cocô, mas, em vez disso, vou fazer algumas observações e pontos que deduzi. Não há mais sentido assistir a esses filmes. Algum leitor por aí se lembra do filme de terror? Lembra como era original, com alguns elementos cômicos? Havia palhaçada, algumas frases engraçadas, era uma comédia bastante esquecível, mas valia o preço da entrada. Bem, essa foi a última vez que essa premissa foi engraçada. PARE DE FAZER ESTES FILMES. POR FAVOR, eu poderia pedir um boicote a esses pedaços de macaco, mas todos sabemos que haverá uma fila de buggers irritantes e pré-pubescentes, jorrando uns forros ruins como: \"ISTO É SPARTA!\" e \"IM RICK JAMES BITCH\", para que esses filmes continuem gerando algum ganho monetário, considerando que o valor de produção deste filme parece custar cerca de 10 centavos de dólar. Não gaste dinheiro com isso. Vá para casa, alugue a Airplane, ria e julgue silenciosamente as pessoas que estão fal...   \n",
       "3  Se você viu os outros filmes falsificados anteriores por esses dois senhores horríveis, deve saber que isso já será ruim. Vou lhe dizer a verdade, se você quiser vê-lo como uma pessoa sem cérebro (ironicamente para os adolescentes estereotipados, o que eu não sou), então você rirá um pouco. Mas se você julgar, mesmo que um pouco, o filme falha automaticamente. Por quê? Nunca pergunte isso quando se trata desses dois homens. Lembre-se dos bons e velhos tempos de Hollywood, sempre que fazer um filme era mostrar às pessoas um tipo de arte e também uma história que o mantinha na ponta do seu assento? Bem, sempre que a notícia de que fazer filmes ganhava muito dinheiro, então todas essas pessoas gananciosas apareciam na imagem e é bastante patético. Esses dois não são exceção. Ainda temos artistas de filmes (principalmente o gênio Christopher Nolan). Mas esses dois caras simplesmente ... bem, eu tenho escrito palavras tão grandes, deixe-me colocar em termos simples para esses caras ... ...   \n",
       "4                                 Este filme eu vi um dia cedo de graça e ainda sinto que fui enganado. É totalmente morte cerebral. Arrotando, chutando a virilha e os peitos por todo o lugar. Coxo. O que há de errado com a sociedade, que filmes como esse são feitos? As paródias eram todas horrendas e pouco engraçadas. O enredo foi sem brilho, na melhor das hipóteses, e a atuação foi superficial, transparente e realmente bastante desnecessária. Alguém vê \"Idiocracia\"? Lembra do filme que ganhou todos os prêmios da academia no futuro? Bem, este é esse filme. Eu não vi um filme de baixa qualidade mais rançoso. \"Date Movie\" foi bom, The Scary Movies pelo menos teve enredos decentes, mas isso faz \"spoofs\" (se é que posso dizer assim) para este ano 0 para 3, com \"Meet the Spartans\" e \"Filme de super-heróis\" todos caindo. Bem, eu perdi ainda mais da minha vida digitando sobre esse saco de esterco de vaca. Então, apesar de tudo, não assista a este filme, a menos que o seu QI seja inferior a 80.   \n",
       "\n",
       "                                                                                                                                                                                                                                                                                                                                                                                                                                                                                                                                                                                                                                                                                                                                                                                                                                                                                                                                                                                                                             Reviews_clean  \n",
       "0  disclaimer watched movie conditional agreement see films free not caught dead giving hard earned money idiots well explain depth film write shortest review ever not see movie far stupidest lamest lazy unbelievably unfunny movie ever seen total disaster since hatred movie others like extends far beyond one viewing think go bit not know people movie besides carmen electra vanessa minnillo kim kardashian not matter horrible though think point editing flat horrible possibly blatant continuity errors make crapfast even crappier thought know films not supposed serious come film making someone gets minor facial cut next shot someone gets cut sword blood least cut though since narnia films get away give disaster movie pass jokes thoughtless mindless physical gags obviously take popular movies last year late well including best picture nominees know saddest thing stupid movies not care much money make many cameos sorry ass excuses films taking away jobs actors writers directors truly deserv...  \n",
       "1                                                               writing hopes gets put previous review film anyone find slop entertaining completely beyond first spoof film entitled disaster movie indeed spoof disaster films seen yes count disaster film spoofed twister juno iron man batman hulk alvin chipmunks amy winehouse hancock register disaster films selzterwater failburg shown lack sort writing skill humor unfortunately tortured date movie epic movie know exactly expect two plot jokes bad references cheaply remade scenes films someone informed satire copy paste one film another though not say actually seem taken trailers nothing clever witty remotely smart way two write not believe people still pay see travesties insult audience though enjoy films doubt smart enough realize rating unfortunately not number low enough yes includes negatives rate deserves top worst films time right date movie epic faliure mean movie meet spartans rather forced hour manos hands fate marathon watch slop  \n",
       "2                                                                                                                                                                                                                                                                                                                                                really write scathing review turd sandwich instead going making observations points deduced point watching movies anymore reader remember scary movie remember original comedic elements slapstick funny lines pretty forgettable comedy worth price admission well last time premise funny stop making movies please call boycott pieces monkey sh know going line pre pubescent annoying little buggers spouting crappy one liners like sparta im rick james bitch movies continue make form monetary gain considering production value movie looks like cost cents make not see movie not spend money go home rent airplane laugh ass silently judge people talking movie monday favor  \n",
       "3  saw previous spoof movies two horrible gentlemen know already bad tell truth want watch brainless person ironically meant stereotypical teenagers not laugh bit judge even little movie automatically fails never ask comes two men remember good old hollywood days whenever making movie showing people type art also story kept edge seat well whenever word hit making films earned loads cash greedy people came picture quite pathetic two exception still movie artists notably genius christopher nolan two guys well writing big words let put simple terms guys guys suck not artists instead money craving whores latest movie proves even movie fails easily mind blowing mean nothing funny trailer people usually put best stuff like idiots sometimes knew going bad made bet friends not good idea write movie reviews paper tell everyone whats good whats bad friends flipped review well warning least not even called movie nothing artistic original jokes sorry references made throughout pretty much random ...  \n",
       "4                                                                                                                                                                                                                                                                                                                                                                                                                                                                    movie saw day early free still feel like got ripped totally brain dead burping kicking groin boobs place lame wrong society films like even get made parodies horrendous un funny plot lackluster best acting shallow transparent really quite unnecessary anyone see idiocracy remember movie academy awards future well movie not seen rancid crappy film date movie okay scary movies least decent plots makes spoofs nice call year meet spartans superhero movie falling flat well wasted even life typing sack cow dung not see movie unless course iq thanks r  "
      ]
     },
     "execution_count": 5,
     "metadata": {},
     "output_type": "execute_result"
    }
   ],
   "source": [
    "%%time\n",
    "pd.options.display.max_colwidth = 1000\n",
    "#Data cleaning\n",
    "df['Reviews_clean']=df['Reviews'].apply(data_cleaning)\n",
    "df.head(5)"
   ]
  },
  {
   "cell_type": "code",
   "execution_count": 6,
   "metadata": {},
   "outputs": [
    {
     "name": "stdout",
     "output_type": "stream",
     "text": [
      "Label\n",
      "0    60000\n",
      "1    60000\n",
      "Name: count, dtype: int64\n"
     ]
    }
   ],
   "source": [
    "#Mapping rating data to Binary label 1 (+ve) if rating >=7 and 0 (-ve) if rating <=4 and 2 (neutral) if rating = 5 or 6\n",
    "df['Label'] = df['Ratings'].apply(lambda x: '1' if x >= 7 else ('0' if x<=4 else '2'))\n",
    "#Removing \n",
    "df=df[df.Label<'2']\n",
    "data=df[['Reviews_clean','Label']]\n",
    "print(data['Label'].value_counts())"
   ]
  },
  {
   "cell_type": "code",
   "execution_count": 7,
   "metadata": {},
   "outputs": [
    {
     "data": {
      "text/html": [
       "<div>\n",
       "<style scoped>\n",
       "    .dataframe tbody tr th:only-of-type {\n",
       "        vertical-align: middle;\n",
       "    }\n",
       "\n",
       "    .dataframe tbody tr th {\n",
       "        vertical-align: top;\n",
       "    }\n",
       "\n",
       "    .dataframe thead th {\n",
       "        text-align: right;\n",
       "    }\n",
       "</style>\n",
       "<table border=\"1\" class=\"dataframe\">\n",
       "  <thead>\n",
       "    <tr style=\"text-align: right;\">\n",
       "      <th></th>\n",
       "      <th>Reviews_clean</th>\n",
       "      <th>Label</th>\n",
       "    </tr>\n",
       "  </thead>\n",
       "  <tbody>\n",
       "    <tr>\n",
       "      <th>0</th>\n",
       "      <td>disclaimer watched movie conditional agreement see films free not caught dead giving hard earned money idiots well explain depth film write shortest review ever not see movie far stupidest lamest lazy unbelievably unfunny movie ever seen total disaster since hatred movie others like extends far beyond one viewing think go bit not know people movie besides carmen electra vanessa minnillo kim kardashian not matter horrible though think point editing flat horrible possibly blatant continuity errors make crapfast even crappier thought know films not supposed serious come film making someone gets minor facial cut next shot someone gets cut sword blood least cut though since narnia films get away give disaster movie pass jokes thoughtless mindless physical gags obviously take popular movies last year late well including best picture nominees know saddest thing stupid movies not care much money make many cameos sorry ass excuses films taking away jobs actors writers directors truly deserv...</td>\n",
       "      <td>0</td>\n",
       "    </tr>\n",
       "    <tr>\n",
       "      <th>1</th>\n",
       "      <td>writing hopes gets put previous review film anyone find slop entertaining completely beyond first spoof film entitled disaster movie indeed spoof disaster films seen yes count disaster film spoofed twister juno iron man batman hulk alvin chipmunks amy winehouse hancock register disaster films selzterwater failburg shown lack sort writing skill humor unfortunately tortured date movie epic movie know exactly expect two plot jokes bad references cheaply remade scenes films someone informed satire copy paste one film another though not say actually seem taken trailers nothing clever witty remotely smart way two write not believe people still pay see travesties insult audience though enjoy films doubt smart enough realize rating unfortunately not number low enough yes includes negatives rate deserves top worst films time right date movie epic faliure mean movie meet spartans rather forced hour manos hands fate marathon watch slop</td>\n",
       "      <td>0</td>\n",
       "    </tr>\n",
       "    <tr>\n",
       "      <th>2</th>\n",
       "      <td>really write scathing review turd sandwich instead going making observations points deduced point watching movies anymore reader remember scary movie remember original comedic elements slapstick funny lines pretty forgettable comedy worth price admission well last time premise funny stop making movies please call boycott pieces monkey sh know going line pre pubescent annoying little buggers spouting crappy one liners like sparta im rick james bitch movies continue make form monetary gain considering production value movie looks like cost cents make not see movie not spend money go home rent airplane laugh ass silently judge people talking movie monday favor</td>\n",
       "      <td>0</td>\n",
       "    </tr>\n",
       "    <tr>\n",
       "      <th>3</th>\n",
       "      <td>saw previous spoof movies two horrible gentlemen know already bad tell truth want watch brainless person ironically meant stereotypical teenagers not laugh bit judge even little movie automatically fails never ask comes two men remember good old hollywood days whenever making movie showing people type art also story kept edge seat well whenever word hit making films earned loads cash greedy people came picture quite pathetic two exception still movie artists notably genius christopher nolan two guys well writing big words let put simple terms guys guys suck not artists instead money craving whores latest movie proves even movie fails easily mind blowing mean nothing funny trailer people usually put best stuff like idiots sometimes knew going bad made bet friends not good idea write movie reviews paper tell everyone whats good whats bad friends flipped review well warning least not even called movie nothing artistic original jokes sorry references made throughout pretty much random ...</td>\n",
       "      <td>0</td>\n",
       "    </tr>\n",
       "    <tr>\n",
       "      <th>4</th>\n",
       "      <td>movie saw day early free still feel like got ripped totally brain dead burping kicking groin boobs place lame wrong society films like even get made parodies horrendous un funny plot lackluster best acting shallow transparent really quite unnecessary anyone see idiocracy remember movie academy awards future well movie not seen rancid crappy film date movie okay scary movies least decent plots makes spoofs nice call year meet spartans superhero movie falling flat well wasted even life typing sack cow dung not see movie unless course iq thanks r</td>\n",
       "      <td>0</td>\n",
       "    </tr>\n",
       "  </tbody>\n",
       "</table>\n",
       "</div>"
      ],
      "text/plain": [
       "                                                                                                                                                                                                                                                                                                                                                                                                                                                                                                                                                                                                                                                                                                                                                                                                                                                                                                                                                                                                                             Reviews_clean  \\\n",
       "0  disclaimer watched movie conditional agreement see films free not caught dead giving hard earned money idiots well explain depth film write shortest review ever not see movie far stupidest lamest lazy unbelievably unfunny movie ever seen total disaster since hatred movie others like extends far beyond one viewing think go bit not know people movie besides carmen electra vanessa minnillo kim kardashian not matter horrible though think point editing flat horrible possibly blatant continuity errors make crapfast even crappier thought know films not supposed serious come film making someone gets minor facial cut next shot someone gets cut sword blood least cut though since narnia films get away give disaster movie pass jokes thoughtless mindless physical gags obviously take popular movies last year late well including best picture nominees know saddest thing stupid movies not care much money make many cameos sorry ass excuses films taking away jobs actors writers directors truly deserv...   \n",
       "1                                                               writing hopes gets put previous review film anyone find slop entertaining completely beyond first spoof film entitled disaster movie indeed spoof disaster films seen yes count disaster film spoofed twister juno iron man batman hulk alvin chipmunks amy winehouse hancock register disaster films selzterwater failburg shown lack sort writing skill humor unfortunately tortured date movie epic movie know exactly expect two plot jokes bad references cheaply remade scenes films someone informed satire copy paste one film another though not say actually seem taken trailers nothing clever witty remotely smart way two write not believe people still pay see travesties insult audience though enjoy films doubt smart enough realize rating unfortunately not number low enough yes includes negatives rate deserves top worst films time right date movie epic faliure mean movie meet spartans rather forced hour manos hands fate marathon watch slop   \n",
       "2                                                                                                                                                                                                                                                                                                                                                really write scathing review turd sandwich instead going making observations points deduced point watching movies anymore reader remember scary movie remember original comedic elements slapstick funny lines pretty forgettable comedy worth price admission well last time premise funny stop making movies please call boycott pieces monkey sh know going line pre pubescent annoying little buggers spouting crappy one liners like sparta im rick james bitch movies continue make form monetary gain considering production value movie looks like cost cents make not see movie not spend money go home rent airplane laugh ass silently judge people talking movie monday favor   \n",
       "3  saw previous spoof movies two horrible gentlemen know already bad tell truth want watch brainless person ironically meant stereotypical teenagers not laugh bit judge even little movie automatically fails never ask comes two men remember good old hollywood days whenever making movie showing people type art also story kept edge seat well whenever word hit making films earned loads cash greedy people came picture quite pathetic two exception still movie artists notably genius christopher nolan two guys well writing big words let put simple terms guys guys suck not artists instead money craving whores latest movie proves even movie fails easily mind blowing mean nothing funny trailer people usually put best stuff like idiots sometimes knew going bad made bet friends not good idea write movie reviews paper tell everyone whats good whats bad friends flipped review well warning least not even called movie nothing artistic original jokes sorry references made throughout pretty much random ...   \n",
       "4                                                                                                                                                                                                                                                                                                                                                                                                                                                                    movie saw day early free still feel like got ripped totally brain dead burping kicking groin boobs place lame wrong society films like even get made parodies horrendous un funny plot lackluster best acting shallow transparent really quite unnecessary anyone see idiocracy remember movie academy awards future well movie not seen rancid crappy film date movie okay scary movies least decent plots makes spoofs nice call year meet spartans superhero movie falling flat well wasted even life typing sack cow dung not see movie unless course iq thanks r   \n",
       "\n",
       "  Label  \n",
       "0     0  \n",
       "1     0  \n",
       "2     0  \n",
       "3     0  \n",
       "4     0  "
      ]
     },
     "execution_count": 7,
     "metadata": {},
     "output_type": "execute_result"
    }
   ],
   "source": [
    "data.head(5)"
   ]
  },
  {
   "cell_type": "code",
   "execution_count": 8,
   "metadata": {},
   "outputs": [
    {
     "data": {
      "text/html": [
       "<div>\n",
       "<style scoped>\n",
       "    .dataframe tbody tr th:only-of-type {\n",
       "        vertical-align: middle;\n",
       "    }\n",
       "\n",
       "    .dataframe tbody tr th {\n",
       "        vertical-align: top;\n",
       "    }\n",
       "\n",
       "    .dataframe thead th {\n",
       "        text-align: right;\n",
       "    }\n",
       "</style>\n",
       "<table border=\"1\" class=\"dataframe\">\n",
       "  <thead>\n",
       "    <tr style=\"text-align: right;\">\n",
       "      <th></th>\n",
       "      <th>Reviews_clean</th>\n",
       "      <th>Label</th>\n",
       "    </tr>\n",
       "  </thead>\n",
       "  <tbody>\n",
       "    <tr>\n",
       "      <th>149995</th>\n",
       "      <td>goldeneye number personal favorite movie time james bond action film best one ever made opinion best one love movie death grew watching child pierce brosnan number favorite james bond goldeneye first film star pierce brosnan fictional officer james bond film directed martin campbell first series not take story elements works novelist ian fleming hard core james bond fan make apologies believing pierce brosnan closest thing seen ian fleming james bond reason favorite feel action action action action never feel bored long like bond movies fast paced entertaining hard core action plot simply story never get bored beautiful movie beautiful direction martin campbell stunts completely insane scale movie really dangerous music score éric serra title song goldeneye performed tina turner goldeneye released six year hiatus series caused legal disputes timothy dalton resigned role james bond replaced pierce brosnan also recast actress judi dench becoming first woman portray character replacin...</td>\n",
       "      <td>1</td>\n",
       "    </tr>\n",
       "    <tr>\n",
       "      <th>149996</th>\n",
       "      <td>pierce brosnan izabella scorupco sean bean famke janssen double agent james bond still suave sophisticated last film enters russia search stolen goldeneye satellite six years without fans needed movie like everything works witty plot pierce brosnan new bond not review without complimenting sean bean series best villain rank series</td>\n",
       "      <td>1</td>\n",
       "    </tr>\n",
       "    <tr>\n",
       "      <th>149997</th>\n",
       "      <td>given film not thoroughly enjoyed believe best bond ever made actually first one watched well watched seen rest since still one favourite pierce brosnan terrific first appearance bond think connery best stepped role far izabella scorupco gorgeous sidekick bond girl famke janssen brilliant sexy villain partnering sean bean whose also excellent plot simple interesting importantly action sequences truly outstanding opening minutes definitely right best bond openings probably best movie never drags like several others wish action get going action sequences decent include good aircraft crashes explosions satellite dish great shootout military archive leads onto highlight movie outstanding tank chase russia climax also great well set top strange scaffolding features great suspenseful fight brosnan penn film directed martin campbell must one underrated action filmmakers around days think debut possibly first proper hollywood blockbuster certainly makes opportunity given also liked film ve...</td>\n",
       "      <td>1</td>\n",
       "    </tr>\n",
       "    <tr>\n",
       "      <th>149998</th>\n",
       "      <td>absolutely adore movie comeback bond timothy dalton bond franchise officially declared death many one expected another bond movie movie perfectly sets mood future bond movies decade action makes movie way time way bond franchise matured became competitor box office still old bond elements present movie still stays loyal franchise many grew watching villains best ever bond movie since goldfinger funny movie also opinion best bond movie since goldfinger think tells something important bond villains always bond movies sean bean memorable worthy nemesis bond alan cumming excellent fun villain memorable famke janssen literally deathliest hips hit screen movie really launched career three actors coincidence think pierce brosnan simply bond moment first see got charms humor two important elements bond character movie introduces nice new characters later return bond movies judi dench plays new joe baker plays fun character jack wade robbie coltrane plays highly enjoyable villain valentin z...</td>\n",
       "      <td>1</td>\n",
       "    </tr>\n",
       "    <tr>\n",
       "      <th>149999</th>\n",
       "      <td>rented boogie nights last week tell watched film blast think watch film get sicked porn mean yes not porn person not bother not film see thing whole film not really porn well halfway film porn industry half character development bad situations characters go actors played roles perfect especially mark wahlberg john c reilly william h macy sex scenes course terrific mainly focus character hype porn films struggles excellent film one best hedeen outlook</td>\n",
       "      <td>1</td>\n",
       "    </tr>\n",
       "  </tbody>\n",
       "</table>\n",
       "</div>"
      ],
      "text/plain": [
       "                                                                                                                                                                                                                                                                                                                                                                                                                                                                                                                                                                                                                                                                                                                                                                                                                                                                                                                                                                                                                                  Reviews_clean  \\\n",
       "149995  goldeneye number personal favorite movie time james bond action film best one ever made opinion best one love movie death grew watching child pierce brosnan number favorite james bond goldeneye first film star pierce brosnan fictional officer james bond film directed martin campbell first series not take story elements works novelist ian fleming hard core james bond fan make apologies believing pierce brosnan closest thing seen ian fleming james bond reason favorite feel action action action action never feel bored long like bond movies fast paced entertaining hard core action plot simply story never get bored beautiful movie beautiful direction martin campbell stunts completely insane scale movie really dangerous music score éric serra title song goldeneye performed tina turner goldeneye released six year hiatus series caused legal disputes timothy dalton resigned role james bond replaced pierce brosnan also recast actress judi dench becoming first woman portray character replacin...   \n",
       "149996                                                                                                                                                                                                                                                                                                                                                                                                                                                                                                                                                                                                                                                                                             pierce brosnan izabella scorupco sean bean famke janssen double agent james bond still suave sophisticated last film enters russia search stolen goldeneye satellite six years without fans needed movie like everything works witty plot pierce brosnan new bond not review without complimenting sean bean series best villain rank series   \n",
       "149997  given film not thoroughly enjoyed believe best bond ever made actually first one watched well watched seen rest since still one favourite pierce brosnan terrific first appearance bond think connery best stepped role far izabella scorupco gorgeous sidekick bond girl famke janssen brilliant sexy villain partnering sean bean whose also excellent plot simple interesting importantly action sequences truly outstanding opening minutes definitely right best bond openings probably best movie never drags like several others wish action get going action sequences decent include good aircraft crashes explosions satellite dish great shootout military archive leads onto highlight movie outstanding tank chase russia climax also great well set top strange scaffolding features great suspenseful fight brosnan penn film directed martin campbell must one underrated action filmmakers around days think debut possibly first proper hollywood blockbuster certainly makes opportunity given also liked film ve...   \n",
       "149998  absolutely adore movie comeback bond timothy dalton bond franchise officially declared death many one expected another bond movie movie perfectly sets mood future bond movies decade action makes movie way time way bond franchise matured became competitor box office still old bond elements present movie still stays loyal franchise many grew watching villains best ever bond movie since goldfinger funny movie also opinion best bond movie since goldfinger think tells something important bond villains always bond movies sean bean memorable worthy nemesis bond alan cumming excellent fun villain memorable famke janssen literally deathliest hips hit screen movie really launched career three actors coincidence think pierce brosnan simply bond moment first see got charms humor two important elements bond character movie introduces nice new characters later return bond movies judi dench plays new joe baker plays fun character jack wade robbie coltrane plays highly enjoyable villain valentin z...   \n",
       "149999                                                                                                                                                                                                                                                                                                                                                                                                                                                                                                                                                                   rented boogie nights last week tell watched film blast think watch film get sicked porn mean yes not porn person not bother not film see thing whole film not really porn well halfway film porn industry half character development bad situations characters go actors played roles perfect especially mark wahlberg john c reilly william h macy sex scenes course terrific mainly focus character hype porn films struggles excellent film one best hedeen outlook   \n",
       "\n",
       "       Label  \n",
       "149995     1  \n",
       "149996     1  \n",
       "149997     1  \n",
       "149998     1  \n",
       "149999     1  "
      ]
     },
     "execution_count": 8,
     "metadata": {},
     "output_type": "execute_result"
    }
   ],
   "source": [
    "data.tail()"
   ]
  },
  {
   "cell_type": "code",
   "execution_count": 9,
   "metadata": {},
   "outputs": [],
   "source": [
    "#Importing dependencies for feature engineering \n",
    "import sys\n",
    "import os\n",
    "from sklearn.feature_extraction.text import CountVectorizer\n",
    "from sklearn.feature_extraction.text import TfidfVectorizer\n",
    "from sklearn.model_selection import train_test_split\n",
    "from sklearn.linear_model import LogisticRegression\n",
    "from sklearn.ensemble import RandomForestClassifier\n",
    "import pandas as pd\n",
    "from prettytable import PrettyTable\n",
    "from nltk import word_tokenize          \n",
    "from nltk.stem import WordNetLemmatizer"
   ]
  },
  {
   "cell_type": "markdown",
   "metadata": {},
   "source": [
    "                Lemmataizaiton"
   ]
  },
  {
   "cell_type": "code",
   "execution_count": 10,
   "metadata": {},
   "outputs": [],
   "source": [
    "# lemmatization of word \n",
    "class LemmaTokenizer(object):\n",
    "    def __init__(self):\n",
    "        self.wordnetlemma = WordNetLemmatizer()\n",
    "    def __call__(self, reviews):\n",
    "        return [self.wordnetlemma.lemmatize(word) for word in word_tokenize(reviews)]"
   ]
  },
  {
   "cell_type": "code",
   "execution_count": 24,
   "metadata": {},
   "outputs": [],
   "source": [
    "import nltk\n",
    "nltk.data.path.append(\"C:\\\\Users\\\\Z PC\\\\AppData\\\\Roaming\\\\nltk_data\")\n"
   ]
  },
  {
   "cell_type": "code",
   "execution_count": 21,
   "metadata": {},
   "outputs": [
    {
     "name": "stdout",
     "output_type": "stream",
     "text": [
      "['C:\\\\Users\\\\Z PC/nltk_data', 'c:\\\\Users\\\\Z PC\\\\Documents\\\\sentimental-analysis\\\\venv\\\\nltk_data', 'c:\\\\Users\\\\Z PC\\\\Documents\\\\sentimental-analysis\\\\venv\\\\share\\\\nltk_data', 'c:\\\\Users\\\\Z PC\\\\Documents\\\\sentimental-analysis\\\\venv\\\\lib\\\\nltk_data', 'C:\\\\Users\\\\Z PC\\\\AppData\\\\Roaming\\\\nltk_data', 'C:\\\\nltk_data', 'D:\\\\nltk_data', 'E:\\\\nltk_data']\n"
     ]
    }
   ],
   "source": [
    "import nltk\n",
    "print(nltk.data.path)\n"
   ]
  },
  {
   "cell_type": "markdown",
   "metadata": {},
   "source": [
    "Vectoization with Count Vectorizer and TDIDF Vectorizer with Unigram"
   ]
  },
  {
   "cell_type": "code",
   "execution_count": 25,
   "metadata": {},
   "outputs": [
    {
     "ename": "LookupError",
     "evalue": "\n**********************************************************************\n  Resource \u001b[93mpunkt_tab\u001b[0m not found.\n  Please use the NLTK Downloader to obtain the resource:\n\n  \u001b[31m>>> import nltk\n  >>> nltk.download('punkt_tab')\n  \u001b[0m\n  For more information see: https://www.nltk.org/data.html\n\n  Attempted to load \u001b[93mtokenizers/punkt_tab/english/\u001b[0m\n\n  Searched in:\n    - 'C:\\\\Users\\\\Z PC/nltk_data'\n    - 'c:\\\\Users\\\\Z PC\\\\Documents\\\\sentimental-analysis\\\\venv\\\\nltk_data'\n    - 'c:\\\\Users\\\\Z PC\\\\Documents\\\\sentimental-analysis\\\\venv\\\\share\\\\nltk_data'\n    - 'c:\\\\Users\\\\Z PC\\\\Documents\\\\sentimental-analysis\\\\venv\\\\lib\\\\nltk_data'\n    - 'C:\\\\Users\\\\Z PC\\\\AppData\\\\Roaming\\\\nltk_data'\n    - 'C:\\\\nltk_data'\n    - 'D:\\\\nltk_data'\n    - 'E:\\\\nltk_data'\n    - 'C:\\\\Users\\\\Z PC\\\\AppData\\\\Roaming\\\\nltk_data'\n**********************************************************************\n",
     "output_type": "error",
     "traceback": [
      "\u001b[1;31m---------------------------------------------------------------------------\u001b[0m",
      "\u001b[1;31mLookupError\u001b[0m                               Traceback (most recent call last)",
      "Cell \u001b[1;32mIn[25], line 2\u001b[0m\n\u001b[0;32m      1\u001b[0m \u001b[38;5;28;01mfrom\u001b[39;00m\u001b[38;5;250m \u001b[39m\u001b[38;5;21;01mnltk\u001b[39;00m\u001b[38;5;21;01m.\u001b[39;00m\u001b[38;5;21;01mtokenize\u001b[39;00m\u001b[38;5;250m \u001b[39m\u001b[38;5;28;01mimport\u001b[39;00m word_tokenize\n\u001b[1;32m----> 2\u001b[0m \u001b[38;5;28mprint\u001b[39m(\u001b[43mword_tokenize\u001b[49m\u001b[43m(\u001b[49m\u001b[38;5;124;43m\"\u001b[39;49m\u001b[38;5;124;43mThis is a test sentence.\u001b[39;49m\u001b[38;5;124;43m\"\u001b[39;49m\u001b[43m)\u001b[49m)\n",
      "File \u001b[1;32mc:\\Users\\Z PC\\Documents\\sentimental-analysis\\venv\\Lib\\site-packages\\nltk\\tokenize\\__init__.py:142\u001b[0m, in \u001b[0;36mword_tokenize\u001b[1;34m(text, language, preserve_line)\u001b[0m\n\u001b[0;32m    127\u001b[0m \u001b[38;5;28;01mdef\u001b[39;00m\u001b[38;5;250m \u001b[39m\u001b[38;5;21mword_tokenize\u001b[39m(text, language\u001b[38;5;241m=\u001b[39m\u001b[38;5;124m\"\u001b[39m\u001b[38;5;124menglish\u001b[39m\u001b[38;5;124m\"\u001b[39m, preserve_line\u001b[38;5;241m=\u001b[39m\u001b[38;5;28;01mFalse\u001b[39;00m):\n\u001b[0;32m    128\u001b[0m \u001b[38;5;250m    \u001b[39m\u001b[38;5;124;03m\"\"\"\u001b[39;00m\n\u001b[0;32m    129\u001b[0m \u001b[38;5;124;03m    Return a tokenized copy of *text*,\u001b[39;00m\n\u001b[0;32m    130\u001b[0m \u001b[38;5;124;03m    using NLTK's recommended word tokenizer\u001b[39;00m\n\u001b[1;32m   (...)\u001b[0m\n\u001b[0;32m    140\u001b[0m \u001b[38;5;124;03m    :type preserve_line: bool\u001b[39;00m\n\u001b[0;32m    141\u001b[0m \u001b[38;5;124;03m    \"\"\"\u001b[39;00m\n\u001b[1;32m--> 142\u001b[0m     sentences \u001b[38;5;241m=\u001b[39m [text] \u001b[38;5;28;01mif\u001b[39;00m preserve_line \u001b[38;5;28;01melse\u001b[39;00m \u001b[43msent_tokenize\u001b[49m\u001b[43m(\u001b[49m\u001b[43mtext\u001b[49m\u001b[43m,\u001b[49m\u001b[43m \u001b[49m\u001b[43mlanguage\u001b[49m\u001b[43m)\u001b[49m\n\u001b[0;32m    143\u001b[0m     \u001b[38;5;28;01mreturn\u001b[39;00m [\n\u001b[0;32m    144\u001b[0m         token \u001b[38;5;28;01mfor\u001b[39;00m sent \u001b[38;5;129;01min\u001b[39;00m sentences \u001b[38;5;28;01mfor\u001b[39;00m token \u001b[38;5;129;01min\u001b[39;00m _treebank_word_tokenizer\u001b[38;5;241m.\u001b[39mtokenize(sent)\n\u001b[0;32m    145\u001b[0m     ]\n",
      "File \u001b[1;32mc:\\Users\\Z PC\\Documents\\sentimental-analysis\\venv\\Lib\\site-packages\\nltk\\tokenize\\__init__.py:119\u001b[0m, in \u001b[0;36msent_tokenize\u001b[1;34m(text, language)\u001b[0m\n\u001b[0;32m    109\u001b[0m \u001b[38;5;28;01mdef\u001b[39;00m\u001b[38;5;250m \u001b[39m\u001b[38;5;21msent_tokenize\u001b[39m(text, language\u001b[38;5;241m=\u001b[39m\u001b[38;5;124m\"\u001b[39m\u001b[38;5;124menglish\u001b[39m\u001b[38;5;124m\"\u001b[39m):\n\u001b[0;32m    110\u001b[0m \u001b[38;5;250m    \u001b[39m\u001b[38;5;124;03m\"\"\"\u001b[39;00m\n\u001b[0;32m    111\u001b[0m \u001b[38;5;124;03m    Return a sentence-tokenized copy of *text*,\u001b[39;00m\n\u001b[0;32m    112\u001b[0m \u001b[38;5;124;03m    using NLTK's recommended sentence tokenizer\u001b[39;00m\n\u001b[1;32m   (...)\u001b[0m\n\u001b[0;32m    117\u001b[0m \u001b[38;5;124;03m    :param language: the model name in the Punkt corpus\u001b[39;00m\n\u001b[0;32m    118\u001b[0m \u001b[38;5;124;03m    \"\"\"\u001b[39;00m\n\u001b[1;32m--> 119\u001b[0m     tokenizer \u001b[38;5;241m=\u001b[39m \u001b[43m_get_punkt_tokenizer\u001b[49m\u001b[43m(\u001b[49m\u001b[43mlanguage\u001b[49m\u001b[43m)\u001b[49m\n\u001b[0;32m    120\u001b[0m     \u001b[38;5;28;01mreturn\u001b[39;00m tokenizer\u001b[38;5;241m.\u001b[39mtokenize(text)\n",
      "File \u001b[1;32mc:\\Users\\Z PC\\Documents\\sentimental-analysis\\venv\\Lib\\site-packages\\nltk\\tokenize\\__init__.py:105\u001b[0m, in \u001b[0;36m_get_punkt_tokenizer\u001b[1;34m(language)\u001b[0m\n\u001b[0;32m     96\u001b[0m \u001b[38;5;129m@functools\u001b[39m\u001b[38;5;241m.\u001b[39mlru_cache\n\u001b[0;32m     97\u001b[0m \u001b[38;5;28;01mdef\u001b[39;00m\u001b[38;5;250m \u001b[39m\u001b[38;5;21m_get_punkt_tokenizer\u001b[39m(language\u001b[38;5;241m=\u001b[39m\u001b[38;5;124m\"\u001b[39m\u001b[38;5;124menglish\u001b[39m\u001b[38;5;124m\"\u001b[39m):\n\u001b[0;32m     98\u001b[0m \u001b[38;5;250m    \u001b[39m\u001b[38;5;124;03m\"\"\"\u001b[39;00m\n\u001b[0;32m     99\u001b[0m \u001b[38;5;124;03m    A constructor for the PunktTokenizer that utilizes\u001b[39;00m\n\u001b[0;32m    100\u001b[0m \u001b[38;5;124;03m    a lru cache for performance.\u001b[39;00m\n\u001b[1;32m   (...)\u001b[0m\n\u001b[0;32m    103\u001b[0m \u001b[38;5;124;03m    :type language: str\u001b[39;00m\n\u001b[0;32m    104\u001b[0m \u001b[38;5;124;03m    \"\"\"\u001b[39;00m\n\u001b[1;32m--> 105\u001b[0m     \u001b[38;5;28;01mreturn\u001b[39;00m \u001b[43mPunktTokenizer\u001b[49m\u001b[43m(\u001b[49m\u001b[43mlanguage\u001b[49m\u001b[43m)\u001b[49m\n",
      "File \u001b[1;32mc:\\Users\\Z PC\\Documents\\sentimental-analysis\\venv\\Lib\\site-packages\\nltk\\tokenize\\punkt.py:1744\u001b[0m, in \u001b[0;36mPunktTokenizer.__init__\u001b[1;34m(self, lang)\u001b[0m\n\u001b[0;32m   1742\u001b[0m \u001b[38;5;28;01mdef\u001b[39;00m\u001b[38;5;250m \u001b[39m\u001b[38;5;21m__init__\u001b[39m(\u001b[38;5;28mself\u001b[39m, lang\u001b[38;5;241m=\u001b[39m\u001b[38;5;124m\"\u001b[39m\u001b[38;5;124menglish\u001b[39m\u001b[38;5;124m\"\u001b[39m):\n\u001b[0;32m   1743\u001b[0m     PunktSentenceTokenizer\u001b[38;5;241m.\u001b[39m\u001b[38;5;21m__init__\u001b[39m(\u001b[38;5;28mself\u001b[39m)\n\u001b[1;32m-> 1744\u001b[0m     \u001b[38;5;28;43mself\u001b[39;49m\u001b[38;5;241;43m.\u001b[39;49m\u001b[43mload_lang\u001b[49m\u001b[43m(\u001b[49m\u001b[43mlang\u001b[49m\u001b[43m)\u001b[49m\n",
      "File \u001b[1;32mc:\\Users\\Z PC\\Documents\\sentimental-analysis\\venv\\Lib\\site-packages\\nltk\\tokenize\\punkt.py:1749\u001b[0m, in \u001b[0;36mPunktTokenizer.load_lang\u001b[1;34m(self, lang)\u001b[0m\n\u001b[0;32m   1746\u001b[0m \u001b[38;5;28;01mdef\u001b[39;00m\u001b[38;5;250m \u001b[39m\u001b[38;5;21mload_lang\u001b[39m(\u001b[38;5;28mself\u001b[39m, lang\u001b[38;5;241m=\u001b[39m\u001b[38;5;124m\"\u001b[39m\u001b[38;5;124menglish\u001b[39m\u001b[38;5;124m\"\u001b[39m):\n\u001b[0;32m   1747\u001b[0m     \u001b[38;5;28;01mfrom\u001b[39;00m\u001b[38;5;250m \u001b[39m\u001b[38;5;21;01mnltk\u001b[39;00m\u001b[38;5;21;01m.\u001b[39;00m\u001b[38;5;21;01mdata\u001b[39;00m\u001b[38;5;250m \u001b[39m\u001b[38;5;28;01mimport\u001b[39;00m find\n\u001b[1;32m-> 1749\u001b[0m     lang_dir \u001b[38;5;241m=\u001b[39m \u001b[43mfind\u001b[49m\u001b[43m(\u001b[49m\u001b[38;5;124;43mf\u001b[39;49m\u001b[38;5;124;43m\"\u001b[39;49m\u001b[38;5;124;43mtokenizers/punkt_tab/\u001b[39;49m\u001b[38;5;132;43;01m{\u001b[39;49;00m\u001b[43mlang\u001b[49m\u001b[38;5;132;43;01m}\u001b[39;49;00m\u001b[38;5;124;43m/\u001b[39;49m\u001b[38;5;124;43m\"\u001b[39;49m\u001b[43m)\u001b[49m\n\u001b[0;32m   1750\u001b[0m     \u001b[38;5;28mself\u001b[39m\u001b[38;5;241m.\u001b[39m_params \u001b[38;5;241m=\u001b[39m load_punkt_params(lang_dir)\n\u001b[0;32m   1751\u001b[0m     \u001b[38;5;28mself\u001b[39m\u001b[38;5;241m.\u001b[39m_lang \u001b[38;5;241m=\u001b[39m lang\n",
      "File \u001b[1;32mc:\\Users\\Z PC\\Documents\\sentimental-analysis\\venv\\Lib\\site-packages\\nltk\\data.py:579\u001b[0m, in \u001b[0;36mfind\u001b[1;34m(resource_name, paths)\u001b[0m\n\u001b[0;32m    577\u001b[0m sep \u001b[38;5;241m=\u001b[39m \u001b[38;5;124m\"\u001b[39m\u001b[38;5;124m*\u001b[39m\u001b[38;5;124m\"\u001b[39m \u001b[38;5;241m*\u001b[39m \u001b[38;5;241m70\u001b[39m\n\u001b[0;32m    578\u001b[0m resource_not_found \u001b[38;5;241m=\u001b[39m \u001b[38;5;124mf\u001b[39m\u001b[38;5;124m\"\u001b[39m\u001b[38;5;130;01m\\n\u001b[39;00m\u001b[38;5;132;01m{\u001b[39;00msep\u001b[38;5;132;01m}\u001b[39;00m\u001b[38;5;130;01m\\n\u001b[39;00m\u001b[38;5;132;01m{\u001b[39;00mmsg\u001b[38;5;132;01m}\u001b[39;00m\u001b[38;5;130;01m\\n\u001b[39;00m\u001b[38;5;132;01m{\u001b[39;00msep\u001b[38;5;132;01m}\u001b[39;00m\u001b[38;5;130;01m\\n\u001b[39;00m\u001b[38;5;124m\"\u001b[39m\n\u001b[1;32m--> 579\u001b[0m \u001b[38;5;28;01mraise\u001b[39;00m \u001b[38;5;167;01mLookupError\u001b[39;00m(resource_not_found)\n",
      "\u001b[1;31mLookupError\u001b[0m: \n**********************************************************************\n  Resource \u001b[93mpunkt_tab\u001b[0m not found.\n  Please use the NLTK Downloader to obtain the resource:\n\n  \u001b[31m>>> import nltk\n  >>> nltk.download('punkt_tab')\n  \u001b[0m\n  For more information see: https://www.nltk.org/data.html\n\n  Attempted to load \u001b[93mtokenizers/punkt_tab/english/\u001b[0m\n\n  Searched in:\n    - 'C:\\\\Users\\\\Z PC/nltk_data'\n    - 'c:\\\\Users\\\\Z PC\\\\Documents\\\\sentimental-analysis\\\\venv\\\\nltk_data'\n    - 'c:\\\\Users\\\\Z PC\\\\Documents\\\\sentimental-analysis\\\\venv\\\\share\\\\nltk_data'\n    - 'c:\\\\Users\\\\Z PC\\\\Documents\\\\sentimental-analysis\\\\venv\\\\lib\\\\nltk_data'\n    - 'C:\\\\Users\\\\Z PC\\\\AppData\\\\Roaming\\\\nltk_data'\n    - 'C:\\\\nltk_data'\n    - 'D:\\\\nltk_data'\n    - 'E:\\\\nltk_data'\n    - 'C:\\\\Users\\\\Z PC\\\\AppData\\\\Roaming\\\\nltk_data'\n**********************************************************************\n"
     ]
    }
   ],
   "source": [
    "from nltk.tokenize import word_tokenize\n",
    "print(word_tokenize(\"This is a test sentence.\"))\n"
   ]
  },
  {
   "cell_type": "code",
   "execution_count": 26,
   "metadata": {},
   "outputs": [
    {
     "name": "stderr",
     "output_type": "stream",
     "text": [
      "[nltk_data] Downloading package punkt_tab to C:\\Users\\Z\n",
      "[nltk_data]     PC\\AppData\\Roaming\\nltk_data...\n",
      "[nltk_data]   Unzipping tokenizers\\punkt_tab.zip.\n"
     ]
    },
    {
     "data": {
      "text/plain": [
       "True"
      ]
     },
     "execution_count": 26,
     "metadata": {},
     "output_type": "execute_result"
    }
   ],
   "source": [
    "import nltk\n",
    "nltk.download('punkt_tab')\n"
   ]
  },
  {
   "cell_type": "code",
   "execution_count": 27,
   "metadata": {},
   "outputs": [
    {
     "name": "stdout",
     "output_type": "stream",
     "text": [
      "['This', 'is', 'a', 'test', 'sentence', '.']\n"
     ]
    }
   ],
   "source": [
    "from nltk.tokenize import word_tokenize\n",
    "print(word_tokenize(\"This is a test sentence.\"))\n"
   ]
  },
  {
   "cell_type": "code",
   "execution_count": 29,
   "metadata": {},
   "outputs": [
    {
     "name": "stderr",
     "output_type": "stream",
     "text": [
      "[nltk_data] Downloading package wordnet to C:\\Users\\Z\n",
      "[nltk_data]     PC\\AppData\\Roaming\\nltk_data...\n"
     ]
    },
    {
     "data": {
      "text/plain": [
       "True"
      ]
     },
     "execution_count": 29,
     "metadata": {},
     "output_type": "execute_result"
    }
   ],
   "source": [
    "import nltk\n",
    "nltk.download('wordnet')\n"
   ]
  },
  {
   "cell_type": "code",
   "execution_count": 30,
   "metadata": {},
   "outputs": [],
   "source": [
    "train,test=train_test_split(data,test_size=.3,random_state=42, shuffle=True)\n",
    "countvect = CountVectorizer(analyzer = \"word\", tokenizer = LemmaTokenizer(), ngram_range=(1,1), min_df=10,max_features=500)\n",
    "tfidfvect = TfidfVectorizer(analyzer = \"word\", tokenizer = LemmaTokenizer(), ngram_range=(1,1),min_df=10,max_features=500)\n",
    "x_train_count = countvect.fit_transform(train['Reviews_clean']).toarray()\n",
    "x_test_count = countvect.transform(test['Reviews_clean']).toarray()\n",
    "x_train_tfidf = tfidfvect.fit_transform(train['Reviews_clean']).toarray()\n",
    "x_test_tfidf = tfidfvect.transform(test['Reviews_clean']).toarray()\n",
    "y_train = train['Label']\n",
    "y_test = test['Label']"
   ]
  },
  {
   "cell_type": "markdown",
   "metadata": {},
   "source": [
    "Feature Importance with Logistic Regression and Count Vectorizer with unigram"
   ]
  },
  {
   "cell_type": "code",
   "execution_count": 33,
   "metadata": {},
   "outputs": [
    {
     "name": "stdout",
     "output_type": "stream",
     "text": [
      "+----------------+------------------------+\n",
      "|    Feature     |         Score          |\n",
      "+----------------+------------------------+\n",
      "|      able      |  0.10525769670004766   |\n",
      "|   absolutely   |  0.056573558412755125  |\n",
      "|      act       |  -0.1561589749790978   |\n",
      "|     acting     |  -0.16907021388184065  |\n",
      "|     action     |   0.2649742327674549   |\n",
      "|     actor      |  -0.12911177744876093  |\n",
      "|    actress     |  -0.14275981751057382  |\n",
      "|    actually    | -0.052749878853626406  |\n",
      "|      add       |  0.027075916628072048  |\n",
      "|     adult      |  0.056826745854422565  |\n",
      "|      age       |  0.09980361363911106   |\n",
      "|     alien      |  -0.07086333049085652  |\n",
      "|     almost     | -0.015407230794360304  |\n",
      "|     along      |  0.12106302372141155   |\n",
      "|    already     |  -0.20704293130509885  |\n",
      "|      also      |   0.0981582766529459   |\n",
      "|    although    |  0.19593975556453694   |\n",
      "|     always     |  0.19894479841336132   |\n",
      "|    amazing     |   0.8392415074315244   |\n",
      "|    american    |   0.0495120851051238   |\n",
      "|    annoying    |  -0.7471643652179262   |\n",
      "|    another     |  -0.1554698023549024   |\n",
      "|     anyone     | -0.019855834574331516  |\n",
      "|    anything    |  -0.29175634656466687  |\n",
      "|     anyway     |  0.04097055229945582   |\n",
      "|     around     |  -0.09592156986369653  |\n",
      "|      art       | -0.005323275919139154  |\n",
      "|    attempt     |  -0.6740173418168302   |\n",
      "|   attention    |  0.30555439904467696   |\n",
      "|    audience    | -0.014390474779510621  |\n",
      "|    average     |  -0.28578713009115686  |\n",
      "|      away      |  0.06333144250240966   |\n",
      "|     awful      |  -1.1933563888728296   |\n",
      "|       b        | -0.016932229994476782  |\n",
      "|      back      |  0.026607957889300055  |\n",
      "|      bad       |  -0.3462662248234917   |\n",
      "|     based      |  0.09568998893904591   |\n",
      "|   beautiful    |   0.4268720597708852   |\n",
      "|     become     |  0.09391399921795732   |\n",
      "|    becomes     |  -0.11117030163829177  |\n",
      "|     begin      |  -0.05187375326031913  |\n",
      "|   beginning    |  0.16967554422961928   |\n",
      "|     behind     |  -0.0341452062853281   |\n",
      "|    believe     | 0.0029754448956512782  |\n",
      "|      best      |  0.40990646521381346   |\n",
      "|     better     | -0.056270209200983544  |\n",
      "|      big       |  -0.02009025119309118  |\n",
      "|      bit       |  0.19781632196278984   |\n",
      "|     black      |  -0.02266232262970694  |\n",
      "|     blood      |  -0.06256454184677442  |\n",
      "|      body      | -0.033332282658842416  |\n",
      "|      book      |  -0.04400149340616552  |\n",
      "|     boring     |  -1.0940353136010816   |\n",
      "|      boy       |  0.011565350451763934  |\n",
      "|   brilliant    |   0.9077777227917929   |\n",
      "|    brother     |  0.03419984719941952   |\n",
      "|     budget     |  0.10028111046984288   |\n",
      "|      call      |  0.016352011577146434  |\n",
      "|     called     |  -0.13832372250912936  |\n",
      "|      came      |  -0.16056398393979332  |\n",
      "|     camera     |  -0.0673624135993813   |\n",
      "|      car       |  -0.01575664006644515  |\n",
      "|      care      |  -0.20837397018384535  |\n",
      "|      case      |  -0.09458966765306953  |\n",
      "|      cast      |  0.06250990845300941   |\n",
      "|   certainly    |  0.30860114734644806   |\n",
      "|      cgi       |  -0.09418220470790487  |\n",
      "|     chance     |  0.14885934088950672   |\n",
      "|     change     |  0.14810050614741174   |\n",
      "|   character    | -0.010645582295080825  |\n",
      "|     cheap      |  -0.5957565540401861   |\n",
      "|     child      | 0.0003419832743361978  |\n",
      "|     cinema     |  0.13604935834189494   |\n",
      "| cinematography |  0.26189336985266976   |\n",
      "|    classic     |   0.3032225076431405   |\n",
      "|     close      |  0.02597178282449401   |\n",
      "|      come      |  -0.02455808930987399  |\n",
      "|     comedy     |  0.01927764199437426   |\n",
      "|     comic      |  0.22378725980960112   |\n",
      "|     coming     |  0.17605285312986424   |\n",
      "|    complete    |  -0.3182271991693685   |\n",
      "|   completely   |  -0.22609873996821436  |\n",
      "|      cool      |   0.1674708118117861   |\n",
      "|     couple     |  -0.10043089294635828  |\n",
      "|     course     |  0.07353282370409467   |\n",
      "|      crap      |  -0.5087441959792002   |\n",
      "|    creature    |  -0.0847717609396269   |\n",
      "|     credit     |  0.05383166260792836   |\n",
      "|      cut       |  -0.04706495243898328  |\n",
      "|      dark      |  0.20297308206168826   |\n",
      "|    daughter    |  -0.04181647253338729  |\n",
      "|      day       |  0.10059517368333075   |\n",
      "|      dead      |  0.010649323193507504  |\n",
      "|     death      |  0.03424913479047794   |\n",
      "|     decent     |  -0.18038543430507623  |\n",
      "|   definitely   |   0.6148398572976548   |\n",
      "|    despite     |  0.036789892751110484  |\n",
      "|    dialogue    |  -0.26660950709418163  |\n",
      "|   different    |   0.3614570216681156   |\n",
      "|    directed    | -0.015035195330836396  |\n",
      "|   direction    |  -0.11965356573517753  |\n",
      "|    director    |  -0.11366991474623296  |\n",
      "|  disappointed  |  -0.4144542780179188   |\n",
      "|      done      |  0.06546797072853112   |\n",
      "|     drama      |  0.06900311717992376   |\n",
      "|      due       |  -0.08158118962509005  |\n",
      "|      dvd       |  0.07202605891029022   |\n",
      "|    editing     | -0.050488954722895746  |\n",
      "|     effect     | 0.0002133376427279704  |\n",
      "|     effort     |  -0.2775116366132112   |\n",
      "|     either     |  -0.1755992146216483   |\n",
      "|    element     |  0.08412728201418443   |\n",
      "|      else      |  -0.16564049874548112  |\n",
      "|      end       |  -0.08358986945799554  |\n",
      "|     ending     |   0.1224418054847298   |\n",
      "|     enjoy      |   0.4159934219627229   |\n",
      "|   enjoyable    |   0.7422668073574923   |\n",
      "|    enjoyed     |   0.8957387694035489   |\n",
      "|     enough     |  -0.08231675136790237  |\n",
      "|  entertaining  |   0.5604119858324526   |\n",
      "| entertainment  |  0.28210347539308533   |\n",
      "|     entire     |  -0.1450759655902256   |\n",
      "|    episode     |  0.23076877415909894   |\n",
      "|   especially   |   0.2339591328608611   |\n",
      "|      etc       |  0.023222261687123092  |\n",
      "|      even      |  -0.24519482092054165  |\n",
      "|     event      |  0.08965411624950846   |\n",
      "|      ever      |  0.09975209577947063   |\n",
      "|     every      |  0.07487706548012829   |\n",
      "|    everyone    |  0.22690455229923426   |\n",
      "|   everything   | -0.014939020453652415  |\n",
      "|      evil      |  -0.08532307250269704  |\n",
      "|    exactly     |   0.2060076220902608   |\n",
      "|    example     |  -0.2779832525290313   |\n",
      "|   excellent    |   0.9899464084565257   |\n",
      "|     except     |  -0.34300256685352526  |\n",
      "|     expect     |  0.25756032589935934   |\n",
      "|  expectation   |  0.22511004507504948   |\n",
      "|    expected    |  0.17853239698874013   |\n",
      "|   expecting    |  0.33822017743479704   |\n",
      "|   experience   |  0.20791543432021603   |\n",
      "|   extremely    |  -0.03394179316895392  |\n",
      "|      eye       |  0.13235289525807487   |\n",
      "|      face      |  0.025888100089382606  |\n",
      "|      fact      | -0.056053777362730504  |\n",
      "|      fall      |  -0.3777190345822086   |\n",
      "|     family     |  0.10746161041452178   |\n",
      "|      fan       |  0.11216296427625196   |\n",
      "|   fantastic    |   0.7932434695869491   |\n",
      "|      far       | -0.059934207463569394  |\n",
      "|      fast      |   0.1710496460657738   |\n",
      "|     father     | -0.011694930345010377  |\n",
      "|    favorite    |   0.5524744555522896   |\n",
      "|    feature     |  -0.0787654538083938   |\n",
      "|      feel      |  0.056960537492656865  |\n",
      "|    feeling     | -0.005385210918707939  |\n",
      "|      felt      |  -0.19995284486084988  |\n",
      "|     female     |  -0.16984156789293442  |\n",
      "|       fi       |  0.024107761340705084  |\n",
      "|     fight      |  0.055076254058114664  |\n",
      "|      film      |   0.0316763310868189   |\n",
      "|     final      |  0.15480026976719047   |\n",
      "|    finally     |  0.11981770740813462   |\n",
      "|      find      |  0.10444130664795305   |\n",
      "|      fine      |  0.11313244681230779   |\n",
      "|     first      |  0.06233889682183169   |\n",
      "|     flick      |  0.03395161527108538   |\n",
      "|     found      |  0.06221731963215307   |\n",
      "|     friend     |  -0.03452309601662074  |\n",
      "|      full      |  0.07257680207336678   |\n",
      "|      fun       |   0.5554574323761762   |\n",
      "|     funny      |   0.078687615307649    |\n",
      "|     future     |  0.15870489550042954   |\n",
      "|      game      |  0.13088024738339854   |\n",
      "|      gave      |  -0.10145079793362623  |\n",
      "|     genre      |  0.13728722840496163   |\n",
      "|      get       | -0.006560894793804827  |\n",
      "|    getting     |  -0.04481781981680975  |\n",
      "|      girl      |  -0.07288582044713264  |\n",
      "|      give      |   0.1620796621947185   |\n",
      "|     given      |  -0.08868031558798221  |\n",
      "|     giving     |  0.09932950250264992   |\n",
      "|       go       |  0.07864618977901135   |\n",
      "|      god       |  0.021611613093278123  |\n",
      "|     going      | -0.023743783811951396  |\n",
      "|      good      |  0.18722544332334104   |\n",
      "|      gore      |  0.18803775442267204   |\n",
      "|      got       |  -0.03174099006191595  |\n",
      "|     great      |   0.5673928715617097   |\n",
      "|     group      | -0.0009784691157992554 |\n",
      "|     guess      |  -0.47307737333729694  |\n",
      "|      guy       |  0.058963689053104666  |\n",
      "|      half      |  -0.22915061091869646  |\n",
      "|      hand      |  -0.08695600479190509  |\n",
      "|     happen     |  0.029225754104777985  |\n",
      "|    happens     |  -0.07449906251577551  |\n",
      "|      hard      |  -0.0868465419473993   |\n",
      "|      hate      |   0.272680418273164    |\n",
      "|      head      |  -0.07146607413944099  |\n",
      "|     heart      |   0.3284125771991809   |\n",
      "|      hell      |  -0.04622263113841931  |\n",
      "+----------------+------------------------+\n"
     ]
    }
   ],
   "source": [
    "lgr = LogisticRegression()\n",
    "lgr.fit(x_train_count,y_train)\n",
    "lgr.score(x_test_count,y_test)\n",
    "lgr.coef_[0]\n",
    "i=0\n",
    "importantfeature = PrettyTable([\"Feature\", \"Score\"])\n",
    "for feature, importance in zip(countvect.get_feature_names_out(), lgr.coef_[0]):\n",
    "    if i<=200:\n",
    "        importantfeature.add_row([feature, importance])\n",
    "        i=i+1\n",
    "print(importantfeature)"
   ]
  },
  {
   "cell_type": "markdown",
   "metadata": {},
   "source": [
    "Feature Importance with TFIDF vectorizer and Logistic Regression with Unigram"
   ]
  },
  {
   "cell_type": "code",
   "execution_count": 35,
   "metadata": {},
   "outputs": [
    {
     "name": "stdout",
     "output_type": "stream",
     "text": [
      "+----------------+------------------------+\n",
      "|    Feature     |         Score          |\n",
      "+----------------+------------------------+\n",
      "|      able      |   0.3984134768688161   |\n",
      "|   absolutely   |   0.509651703862999    |\n",
      "|      act       |  -1.0534922386493828   |\n",
      "|     acting     |   -1.644685350009473   |\n",
      "|     action     |   2.6458293854653294   |\n",
      "|     actor      |  -1.3386359906730674   |\n",
      "|    actress     |  -0.9970937455441533   |\n",
      "|    actually    |  -0.48421298729580564  |\n",
      "|      add       |  0.14285020160080109   |\n",
      "|     adult      |   0.7169359520371428   |\n",
      "|      age       |   0.7660918281980472   |\n",
      "|     alien      |   -0.325156140404579   |\n",
      "|     almost     |  -0.3110121291577947   |\n",
      "|     along      |   0.752048283273715    |\n",
      "|    already     |   -1.173683618804294   |\n",
      "|      also      |   1.2210994141611018   |\n",
      "|    although    |   1.227799175972945    |\n",
      "|     always     |   1.7018882306790941   |\n",
      "|    amazing     |   4.823718025743346    |\n",
      "|    american    |   0.4200082190995243   |\n",
      "|    annoying    |   -3.803909516615577   |\n",
      "|    another     |  -1.3486988549707322   |\n",
      "|     anyone     |  -0.22378409559534168  |\n",
      "|    anything    |   -2.111272980918859   |\n",
      "|     anyway     |  0.14403129163209755   |\n",
      "|     around     |  -0.7673925057407894   |\n",
      "|      art       |  0.34485280814652713   |\n",
      "|    attempt     |   -4.052707174790427   |\n",
      "|   attention    |   1.6826286934921744   |\n",
      "|    audience    |   0.4125936276125477   |\n",
      "|    average     |  -1.1543200744592252   |\n",
      "|      away      |   0.5837499413384667   |\n",
      "|     awful      |   -6.960130908473851   |\n",
      "|       b        |  -0.05499118342117707  |\n",
      "|      back      |  0.19640548885023673   |\n",
      "|      bad       |  -3.7580488173300615   |\n",
      "|     based      |   0.6025331844284014   |\n",
      "|   beautiful    |   2.7912634105954206   |\n",
      "|     become     |   0.7349189526294588   |\n",
      "|    becomes     |  -0.7930551170223861   |\n",
      "|     begin      |  -0.38358834194024233  |\n",
      "|   beginning    |   0.8675883875995125   |\n",
      "|     behind     |  0.024811059309966917  |\n",
      "|    believe     |  0.016507717074339543  |\n",
      "|      best      |   3.7644998065171524   |\n",
      "|     better     |   -0.483577188820347   |\n",
      "|      big       |  -0.07050189621128315  |\n",
      "|      bit       |    1.78648333549073    |\n",
      "|     black      |  0.011527693413837884  |\n",
      "|     blood      |  -0.2933240555936627   |\n",
      "|      body      |  -0.24279877922584292  |\n",
      "|      book      |    0.14925521887853    |\n",
      "|     boring     |   -6.685542415141886   |\n",
      "|      boy       |  0.24295780399536115   |\n",
      "|   brilliant    |   4.6786663607461865   |\n",
      "|    brother     |  0.41551874514834297   |\n",
      "|     budget     |   0.7864150503617064   |\n",
      "|      call      |  -0.10510666168969365  |\n",
      "|     called     |  -0.8771524873791241   |\n",
      "|      came      |  -0.36639050216701846  |\n",
      "|     camera     |  -0.6161956593389817   |\n",
      "|      car       |  -0.06038485847801163  |\n",
      "|      care      |  -1.0618363917603029   |\n",
      "|      case      |  -0.3558913839450096   |\n",
      "|      cast      |  0.44751745816172694   |\n",
      "|   certainly    |   1.8895558636708643   |\n",
      "|      cgi       |  -0.27021222249905574  |\n",
      "|     chance     |   1.0594743520875107   |\n",
      "|     change     |   1.1614334942824085   |\n",
      "|   character    |  -0.09555552451332888  |\n",
      "|     cheap      |   -3.394962697229385   |\n",
      "|     child      |  -0.02287128142071016  |\n",
      "|     cinema     |   0.9436896237942116   |\n",
      "| cinematography |   1.7328524247984864   |\n",
      "|    classic     |   2.115830952264111    |\n",
      "|     close      |  0.19817125685615902   |\n",
      "|      come      |  -0.10424880087654746  |\n",
      "|     comedy     |  0.38738686289733426   |\n",
      "|     comic      |   1.4276055753100385   |\n",
      "|     coming     |   1.0094664302780392   |\n",
      "|    complete    |  -1.9474833412666295   |\n",
      "|   completely   |  -1.5476251037950477   |\n",
      "|      cool      |   1.3976821369837764   |\n",
      "|     couple     |  -0.9104810762318619   |\n",
      "|     course     |   0.7014587776701405   |\n",
      "|      crap      |  -2.7659776166208045   |\n",
      "|    creature    |  -0.42072348947652927  |\n",
      "|     credit     |  0.23596930581223313   |\n",
      "|      cut       |  -0.6887541603431384   |\n",
      "|      dark      |   1.5685869853201166   |\n",
      "|    daughter    |  0.05365569250373363   |\n",
      "|      day       |   0.9713363701887172   |\n",
      "|      dead      | -0.011455961615461313  |\n",
      "|     death      |   0.0711172533332381   |\n",
      "|     decent     |  -0.8822049345811163   |\n",
      "|   definitely   |    4.11133089258911    |\n",
      "|    despite     |   0.2192301482320961   |\n",
      "|    dialogue    |   -1.834527746084537   |\n",
      "|   different    |   2.9592761439961053   |\n",
      "|    directed    | -0.0033765081593131515 |\n",
      "|   direction    |  -0.6113463972925328   |\n",
      "+----------------+------------------------+\n"
     ]
    }
   ],
   "source": [
    "lgr = LogisticRegression()\n",
    "lgr.fit(x_train_tfidf,y_train)\n",
    "lgr.score(x_test_tfidf,y_test)\n",
    "lgr.coef_[0]\n",
    "i=0\n",
    "importantfeature = PrettyTable([\"Feature\", \"Score\"])\n",
    "for feature, importance in zip(tfidfvect.get_feature_names_out(), lgr.coef_[0]):\n",
    "    if i<=100:\n",
    "        importantfeature.add_row([feature, importance])\n",
    "        i=i+1\n",
    "print(importantfeature)"
   ]
  },
  {
   "cell_type": "markdown",
   "metadata": {},
   "source": []
  },
  {
   "cell_type": "code",
   "execution_count": 36,
   "metadata": {},
   "outputs": [],
   "source": [
    "train,test=train_test_split(data,test_size=.3,random_state=42, shuffle=True)\n",
    "countvect = CountVectorizer(analyzer = \"word\", tokenizer = LemmaTokenizer(), ngram_range=(4,4), min_df=10,max_features=500)\n",
    "tfidfvect = TfidfVectorizer(analyzer = \"word\", tokenizer = LemmaTokenizer(), ngram_range=(4,4),min_df=10,max_features=500)\n",
    "x_train_count = countvect.fit_transform(train['Reviews_clean']).toarray()\n",
    "x_test_count = countvect.transform(test['Reviews_clean']).toarray()\n",
    "x_train_tfidf = tfidfvect.fit_transform(train['Reviews_clean']).toarray()\n",
    "x_test_tfidf = tfidfvect.transform(test['Reviews_clean']).toarray()\n",
    "y_train = train['Label']\n",
    "y_test = test['Label']"
   ]
  },
  {
   "cell_type": "code",
   "execution_count": null,
   "metadata": {},
   "outputs": [],
   "source": []
  }
 ],
 "metadata": {
  "kernelspec": {
   "display_name": "venv",
   "language": "python",
   "name": "python3"
  },
  "language_info": {
   "codemirror_mode": {
    "name": "ipython",
    "version": 3
   },
   "file_extension": ".py",
   "mimetype": "text/x-python",
   "name": "python",
   "nbconvert_exporter": "python",
   "pygments_lexer": "ipython3",
   "version": "3.11.0"
  }
 },
 "nbformat": 4,
 "nbformat_minor": 2
}
