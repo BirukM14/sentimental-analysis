{
 "cells": [
  {
   "cell_type": "code",
   "execution_count": null,
   "metadata": {},
   "outputs": [],
   "source": []
  },
  {
   "cell_type": "code",
   "execution_count": 29,
   "metadata": {},
   "outputs": [
    {
     "name": "stdout",
     "output_type": "stream",
     "text": [
      "Requirement already satisfied: numpy in c:\\users\\z pc\\documents\\sentimental-analysis\\venv\\lib\\site-packages (2.2.2)Note: you may need to restart the kernel to use updated packages.\n",
      "\n"
     ]
    }
   ],
   "source": [
    "%pip install numpy"
   ]
  },
  {
   "cell_type": "code",
   "execution_count": 30,
   "metadata": {},
   "outputs": [
    {
     "name": "stdout",
     "output_type": "stream",
     "text": [
      "Requirement already satisfied: pandas in c:\\users\\z pc\\documents\\sentimental-analysis\\venv\\lib\\site-packages (2.2.3)\n",
      "Requirement already satisfied: numpy in c:\\users\\z pc\\documents\\sentimental-analysis\\venv\\lib\\site-packages (2.2.2)\n",
      "Requirement already satisfied: seaborn in c:\\users\\z pc\\documents\\sentimental-analysis\\venv\\lib\\site-packages (0.13.2)\n",
      "Requirement already satisfied: matplotlib in c:\\users\\z pc\\documents\\sentimental-analysis\\venv\\lib\\site-packages (3.10.0)\n",
      "Requirement already satisfied: plotly in c:\\users\\z pc\\documents\\sentimental-analysis\\venv\\lib\\site-packages (6.0.0)\n",
      "Requirement already satisfied: nltk in c:\\users\\z pc\\documents\\sentimental-analysis\\venv\\lib\\site-packages (3.9.1)\n",
      "Requirement already satisfied: scikit-learn in c:\\users\\z pc\\documents\\sentimental-analysis\\venv\\lib\\site-packages (1.6.1)\n",
      "Requirement already satisfied: wordcloud in c:\\users\\z pc\\documents\\sentimental-analysis\\venv\\lib\\site-packages (1.9.4)\n",
      "Requirement already satisfied: python-dateutil>=2.8.2 in c:\\users\\z pc\\documents\\sentimental-analysis\\venv\\lib\\site-packages (from pandas) (2.9.0.post0)\n",
      "Requirement already satisfied: pytz>=2020.1 in c:\\users\\z pc\\documents\\sentimental-analysis\\venv\\lib\\site-packages (from pandas) (2021.3)\n",
      "Requirement already satisfied: tzdata>=2022.7 in c:\\users\\z pc\\documents\\sentimental-analysis\\venv\\lib\\site-packages (from pandas) (2025.1)\n",
      "Requirement already satisfied: contourpy>=1.0.1 in c:\\users\\z pc\\documents\\sentimental-analysis\\venv\\lib\\site-packages (from matplotlib) (1.3.1)\n",
      "Requirement already satisfied: cycler>=0.10 in c:\\users\\z pc\\documents\\sentimental-analysis\\venv\\lib\\site-packages (from matplotlib) (0.12.1)\n",
      "Requirement already satisfied: fonttools>=4.22.0 in c:\\users\\z pc\\documents\\sentimental-analysis\\venv\\lib\\site-packages (from matplotlib) (4.55.8)\n",
      "Requirement already satisfied: kiwisolver>=1.3.1 in c:\\users\\z pc\\documents\\sentimental-analysis\\venv\\lib\\site-packages (from matplotlib) (1.4.8)\n",
      "Requirement already satisfied: packaging>=20.0 in c:\\users\\z pc\\documents\\sentimental-analysis\\venv\\lib\\site-packages (from matplotlib) (24.2)\n",
      "Requirement already satisfied: pillow>=8 in c:\\users\\z pc\\documents\\sentimental-analysis\\venv\\lib\\site-packages (from matplotlib) (11.1.0)\n",
      "Requirement already satisfied: pyparsing>=2.3.1 in c:\\users\\z pc\\documents\\sentimental-analysis\\venv\\lib\\site-packages (from matplotlib) (3.2.1)\n",
      "Requirement already satisfied: narwhals>=1.15.1 in c:\\users\\z pc\\documents\\sentimental-analysis\\venv\\lib\\site-packages (from plotly) (1.25.0)\n",
      "Requirement already satisfied: click in c:\\users\\z pc\\documents\\sentimental-analysis\\venv\\lib\\site-packages (from nltk) (8.1.8)\n",
      "Requirement already satisfied: joblib in c:\\users\\z pc\\documents\\sentimental-analysis\\venv\\lib\\site-packages (from nltk) (1.4.2)\n",
      "Requirement already satisfied: regex>=2021.8.3 in c:\\users\\z pc\\documents\\sentimental-analysis\\venv\\lib\\site-packages (from nltk) (2024.11.6)\n",
      "Requirement already satisfied: tqdm in c:\\users\\z pc\\documents\\sentimental-analysis\\venv\\lib\\site-packages (from nltk) (4.67.1)\n",
      "Requirement already satisfied: scipy>=1.6.0 in c:\\users\\z pc\\documents\\sentimental-analysis\\venv\\lib\\site-packages (from scikit-learn) (1.15.1)\n",
      "Requirement already satisfied: threadpoolctl>=3.1.0 in c:\\users\\z pc\\documents\\sentimental-analysis\\venv\\lib\\site-packages (from scikit-learn) (3.5.0)\n",
      "Requirement already satisfied: six>=1.5 in c:\\users\\z pc\\documents\\sentimental-analysis\\venv\\lib\\site-packages (from python-dateutil>=2.8.2->pandas) (1.17.0)\n",
      "Requirement already satisfied: colorama in c:\\users\\z pc\\documents\\sentimental-analysis\\venv\\lib\\site-packages (from click->nltk) (0.4.6)\n",
      "Note: you may need to restart the kernel to use updated packages.\n"
     ]
    }
   ],
   "source": [
    "%pip install pandas numpy seaborn matplotlib plotly nltk scikit-learn wordcloud"
   ]
  },
  {
   "cell_type": "code",
   "execution_count": 11,
   "metadata": {},
   "outputs": [
    {
     "name": "stdout",
     "output_type": "stream",
     "text": [
      "Collecting pandas\n",
      "  Using cached pandas-2.2.3-cp311-cp311-win_amd64.whl.metadata (19 kB)\n",
      "Requirement already satisfied: numpy>=1.23.2 in c:\\users\\z pc\\documents\\sentimental-analysis\\venv\\lib\\site-packages (from pandas) (2.2.2)\n",
      "Requirement already satisfied: python-dateutil>=2.8.2 in c:\\users\\z pc\\documents\\sentimental-analysis\\venv\\lib\\site-packages (from pandas) (2.9.0.post0)\n",
      "Requirement already satisfied: pytz>=2020.1 in c:\\users\\z pc\\documents\\sentimental-analysis\\venv\\lib\\site-packages (from pandas) (2021.3)\n",
      "Requirement already satisfied: tzdata>=2022.7 in c:\\users\\z pc\\documents\\sentimental-analysis\\venv\\lib\\site-packages (from pandas) (2025.1)\n",
      "Requirement already satisfied: six>=1.5 in c:\\users\\z pc\\documents\\sentimental-analysis\\venv\\lib\\site-packages (from python-dateutil>=2.8.2->pandas) (1.17.0)\n",
      "Using cached pandas-2.2.3-cp311-cp311-win_amd64.whl (11.6 MB)\n",
      "Installing collected packages: pandas\n",
      "Successfully installed pandas-2.2.3\n",
      "Note: you may need to restart the kernel to use updated packages.\n"
     ]
    }
   ],
   "source": [
    "%pip install pandas"
   ]
  },
  {
   "cell_type": "code",
   "execution_count": 31,
   "metadata": {},
   "outputs": [
    {
     "name": "stdout",
     "output_type": "stream",
     "text": [
      "Requirement already satisfied: seaborn in c:\\users\\z pc\\documents\\sentimental-analysis\\venv\\lib\\site-packages (0.13.2)\n",
      "Requirement already satisfied: numpy!=1.24.0,>=1.20 in c:\\users\\z pc\\documents\\sentimental-analysis\\venv\\lib\\site-packages (from seaborn) (2.2.2)\n",
      "Requirement already satisfied: pandas>=1.2 in c:\\users\\z pc\\documents\\sentimental-analysis\\venv\\lib\\site-packages (from seaborn) (2.2.3)\n",
      "Requirement already satisfied: matplotlib!=3.6.1,>=3.4 in c:\\users\\z pc\\documents\\sentimental-analysis\\venv\\lib\\site-packages (from seaborn) (3.10.0)\n",
      "Requirement already satisfied: contourpy>=1.0.1 in c:\\users\\z pc\\documents\\sentimental-analysis\\venv\\lib\\site-packages (from matplotlib!=3.6.1,>=3.4->seaborn) (1.3.1)\n",
      "Requirement already satisfied: cycler>=0.10 in c:\\users\\z pc\\documents\\sentimental-analysis\\venv\\lib\\site-packages (from matplotlib!=3.6.1,>=3.4->seaborn) (0.12.1)\n",
      "Requirement already satisfied: fonttools>=4.22.0 in c:\\users\\z pc\\documents\\sentimental-analysis\\venv\\lib\\site-packages (from matplotlib!=3.6.1,>=3.4->seaborn) (4.55.8)\n",
      "Requirement already satisfied: kiwisolver>=1.3.1 in c:\\users\\z pc\\documents\\sentimental-analysis\\venv\\lib\\site-packages (from matplotlib!=3.6.1,>=3.4->seaborn) (1.4.8)\n",
      "Requirement already satisfied: packaging>=20.0 in c:\\users\\z pc\\documents\\sentimental-analysis\\venv\\lib\\site-packages (from matplotlib!=3.6.1,>=3.4->seaborn) (24.2)\n",
      "Requirement already satisfied: pillow>=8 in c:\\users\\z pc\\documents\\sentimental-analysis\\venv\\lib\\site-packages (from matplotlib!=3.6.1,>=3.4->seaborn) (11.1.0)\n",
      "Requirement already satisfied: pyparsing>=2.3.1 in c:\\users\\z pc\\documents\\sentimental-analysis\\venv\\lib\\site-packages (from matplotlib!=3.6.1,>=3.4->seaborn) (3.2.1)\n",
      "Requirement already satisfied: python-dateutil>=2.7 in c:\\users\\z pc\\documents\\sentimental-analysis\\venv\\lib\\site-packages (from matplotlib!=3.6.1,>=3.4->seaborn) (2.9.0.post0)\n",
      "Requirement already satisfied: pytz>=2020.1 in c:\\users\\z pc\\documents\\sentimental-analysis\\venv\\lib\\site-packages (from pandas>=1.2->seaborn) (2021.3)\n",
      "Requirement already satisfied: tzdata>=2022.7 in c:\\users\\z pc\\documents\\sentimental-analysis\\venv\\lib\\site-packages (from pandas>=1.2->seaborn) (2025.1)\n",
      "Requirement already satisfied: six>=1.5 in c:\\users\\z pc\\documents\\sentimental-analysis\\venv\\lib\\site-packages (from python-dateutil>=2.7->matplotlib!=3.6.1,>=3.4->seaborn) (1.17.0)\n",
      "Note: you may need to restart the kernel to use updated packages.\n"
     ]
    }
   ],
   "source": [
    "%pip install seaborn"
   ]
  },
  {
   "cell_type": "code",
   "execution_count": 14,
   "metadata": {},
   "outputs": [
    {
     "name": "stdout",
     "output_type": "stream",
     "text": [
      "Requirement already satisfied: matplotlib in c:\\users\\z pc\\documents\\sentimental-analysis\\venv\\lib\\site-packages (3.10.0)\n",
      "Requirement already satisfied: contourpy>=1.0.1 in c:\\users\\z pc\\documents\\sentimental-analysis\\venv\\lib\\site-packages (from matplotlib) (1.3.1)\n",
      "Requirement already satisfied: cycler>=0.10 in c:\\users\\z pc\\documents\\sentimental-analysis\\venv\\lib\\site-packages (from matplotlib) (0.12.1)\n",
      "Requirement already satisfied: fonttools>=4.22.0 in c:\\users\\z pc\\documents\\sentimental-analysis\\venv\\lib\\site-packages (from matplotlib) (4.55.8)\n",
      "Requirement already satisfied: kiwisolver>=1.3.1 in c:\\users\\z pc\\documents\\sentimental-analysis\\venv\\lib\\site-packages (from matplotlib) (1.4.8)\n",
      "Requirement already satisfied: numpy>=1.23 in c:\\users\\z pc\\documents\\sentimental-analysis\\venv\\lib\\site-packages (from matplotlib) (2.2.2)\n",
      "Requirement already satisfied: packaging>=20.0 in c:\\users\\z pc\\documents\\sentimental-analysis\\venv\\lib\\site-packages (from matplotlib) (24.2)\n",
      "Requirement already satisfied: pillow>=8 in c:\\users\\z pc\\documents\\sentimental-analysis\\venv\\lib\\site-packages (from matplotlib) (11.1.0)\n",
      "Requirement already satisfied: pyparsing>=2.3.1 in c:\\users\\z pc\\documents\\sentimental-analysis\\venv\\lib\\site-packages (from matplotlib) (3.2.1)\n",
      "Requirement already satisfied: python-dateutil>=2.7 in c:\\users\\z pc\\documents\\sentimental-analysis\\venv\\lib\\site-packages (from matplotlib) (2.9.0.post0)\n",
      "Requirement already satisfied: six>=1.5 in c:\\users\\z pc\\documents\\sentimental-analysis\\venv\\lib\\site-packages (from python-dateutil>=2.7->matplotlib) (1.17.0)\n",
      "Note: you may need to restart the kernel to use updated packages.\n"
     ]
    }
   ],
   "source": [
    "%pip install matplotlib"
   ]
  },
  {
   "cell_type": "code",
   "execution_count": 32,
   "metadata": {},
   "outputs": [
    {
     "name": "stdout",
     "output_type": "stream",
     "text": [
      "Requirement already satisfied: nltk in c:\\users\\z pc\\documents\\sentimental-analysis\\venv\\lib\\site-packages (3.9.1)\n",
      "Requirement already satisfied: click in c:\\users\\z pc\\documents\\sentimental-analysis\\venv\\lib\\site-packages (from nltk) (8.1.8)\n",
      "Requirement already satisfied: joblib in c:\\users\\z pc\\documents\\sentimental-analysis\\venv\\lib\\site-packages (from nltk) (1.4.2)\n",
      "Requirement already satisfied: regex>=2021.8.3 in c:\\users\\z pc\\documents\\sentimental-analysis\\venv\\lib\\site-packages (from nltk) (2024.11.6)\n",
      "Requirement already satisfied: tqdm in c:\\users\\z pc\\documents\\sentimental-analysis\\venv\\lib\\site-packages (from nltk) (4.67.1)\n",
      "Requirement already satisfied: colorama in c:\\users\\z pc\\documents\\sentimental-analysis\\venv\\lib\\site-packages (from click->nltk) (0.4.6)\n",
      "Note: you may need to restart the kernel to use updated packages.\n"
     ]
    }
   ],
   "source": [
    "%pip install nltk"
   ]
  },
  {
   "cell_type": "code",
   "execution_count": 33,
   "metadata": {},
   "outputs": [
    {
     "name": "stdout",
     "output_type": "stream",
     "text": [
      "Requirement already satisfied: wordcloud in c:\\users\\z pc\\documents\\sentimental-analysis\\venv\\lib\\site-packages (1.9.4)\n",
      "Requirement already satisfied: stopwords in c:\\users\\z pc\\documents\\sentimental-analysis\\venv\\lib\\site-packages (1.0.1)\n",
      "Requirement already satisfied: numpy>=1.6.1 in c:\\users\\z pc\\documents\\sentimental-analysis\\venv\\lib\\site-packages (from wordcloud) (2.2.2)\n",
      "Requirement already satisfied: pillow in c:\\users\\z pc\\documents\\sentimental-analysis\\venv\\lib\\site-packages (from wordcloud) (11.1.0)\n",
      "Requirement already satisfied: matplotlib in c:\\users\\z pc\\documents\\sentimental-analysis\\venv\\lib\\site-packages (from wordcloud) (3.10.0)\n",
      "Requirement already satisfied: contourpy>=1.0.1 in c:\\users\\z pc\\documents\\sentimental-analysis\\venv\\lib\\site-packages (from matplotlib->wordcloud) (1.3.1)\n",
      "Requirement already satisfied: cycler>=0.10 in c:\\users\\z pc\\documents\\sentimental-analysis\\venv\\lib\\site-packages (from matplotlib->wordcloud) (0.12.1)\n",
      "Requirement already satisfied: fonttools>=4.22.0 in c:\\users\\z pc\\documents\\sentimental-analysis\\venv\\lib\\site-packages (from matplotlib->wordcloud) (4.55.8)\n",
      "Requirement already satisfied: kiwisolver>=1.3.1 in c:\\users\\z pc\\documents\\sentimental-analysis\\venv\\lib\\site-packages (from matplotlib->wordcloud) (1.4.8)\n",
      "Requirement already satisfied: packaging>=20.0 in c:\\users\\z pc\\documents\\sentimental-analysis\\venv\\lib\\site-packages (from matplotlib->wordcloud) (24.2)\n",
      "Requirement already satisfied: pyparsing>=2.3.1 in c:\\users\\z pc\\documents\\sentimental-analysis\\venv\\lib\\site-packages (from matplotlib->wordcloud) (3.2.1)\n",
      "Requirement already satisfied: python-dateutil>=2.7 in c:\\users\\z pc\\documents\\sentimental-analysis\\venv\\lib\\site-packages (from matplotlib->wordcloud) (2.9.0.post0)\n",
      "Requirement already satisfied: six>=1.5 in c:\\users\\z pc\\documents\\sentimental-analysis\\venv\\lib\\site-packages (from python-dateutil>=2.7->matplotlib->wordcloud) (1.17.0)\n",
      "Note: you may need to restart the kernel to use updated packages.\n"
     ]
    }
   ],
   "source": [
    "%pip install wordcloud stopwords"
   ]
  },
  {
   "cell_type": "code",
   "execution_count": 34,
   "metadata": {},
   "outputs": [],
   "source": [
    "import numpy as np\n",
    "import pandas as pd\n",
    "import seaborn as sns\n",
    "import matplotlib.pyplot as plt\n",
    "import plotly.express as px\n",
    "import nltk\n",
    "from sklearn.feature_extraction.text import CountVectorizer\n",
    "from wordcloud import WordCloud,STOPWORDS\n",
    "from nltk.stem import WordNetLemmatizer\n",
    "from nltk.tokenize import word_tokenize\n",
    "import re,string,unicodedata\n",
    "from sklearn.metrics import classification_report,confusion_matrix,accuracy_score,f1_score\n",
    "from sklearn.model_selection import train_test_split\n",
    "from string import punctuation\n",
    "from nltk import pos_tag\n",
    "from nltk.corpus import wordnet\n",
    "import re\n",
    "import warnings\n",
    "warnings.filterwarnings('ignore')\n",
    "import matplotlib.pyplot as plt"
   ]
  },
  {
   "cell_type": "code",
   "execution_count": 35,
   "metadata": {},
   "outputs": [],
   "source": [
    "df=pd.read_csv(r'C:\\Users\\Z PC\\Documents\\sentimental-analysis\\IMDB-Dataset.csv')"
   ]
  },
  {
   "cell_type": "code",
   "execution_count": 36,
   "metadata": {},
   "outputs": [
    {
     "data": {
      "text/html": [
       "<div>\n",
       "<style scoped>\n",
       "    .dataframe tbody tr th:only-of-type {\n",
       "        vertical-align: middle;\n",
       "    }\n",
       "\n",
       "    .dataframe tbody tr th {\n",
       "        vertical-align: top;\n",
       "    }\n",
       "\n",
       "    .dataframe thead th {\n",
       "        text-align: right;\n",
       "    }\n",
       "</style>\n",
       "<table border=\"1\" class=\"dataframe\">\n",
       "  <thead>\n",
       "    <tr style=\"text-align: right;\">\n",
       "      <th></th>\n",
       "      <th>Ratings</th>\n",
       "      <th>Reviews</th>\n",
       "      <th>Movies</th>\n",
       "      <th>Resenhas</th>\n",
       "    </tr>\n",
       "  </thead>\n",
       "  <tbody>\n",
       "    <tr>\n",
       "      <th>0</th>\n",
       "      <td>1.0</td>\n",
       "      <td>*Disclaimer: I only watched this movie as a conditional agreement. And I see films for free. I wouldn't be caught dead giving my hard earned money to these idiots.Well, to explain the depth of this 'film', I could write my shortest review, ever. Don't see this movie. It is by far the stupidest, lamest, most lazy, and unbelievably UNFUNNY movie I have ever seen. It is a total disaster. But since my hatred for this movie, and the others like it, extends far beyond one viewing, I think I'll go on for a bit.I don't know any of the people in the movie besides Carmen Electra, Vanessa Minnillo, and Kim Kardashian, but it doesn't matter. They're all horrible, though I think that was the point. The editing is flat out horrible, and possibly blatant continuity errors make this crapfast even crappier than I thought it would be. Now I know that these films are not supposed to be serious at all, but come on, it's film-making 101 that if someone gets a minor facial cut, it should be there in the...</td>\n",
       "      <td>Disaster Movie</td>\n",
       "      <td>* Isenção de responsabilidade: eu só assisti esse filme como um acordo condicional. E eu vejo filmes de graça. Eu não seria pego morto dando meu dinheiro suado a esses idiotas. Bem, para explicar a profundidade desse 'filme', eu poderia escrever minha crítica mais curta de todos os tempos. Não vê este filme. É de longe o filme mais estúpido, lamenta, preguiçoso e inacreditavelmente UNFUNNY que eu já vi. É um desastre total. Mas como o meu ódio por este filme e por outros, se estende muito além de uma exibição, acho que vou continuar um pouco. Não conheço nenhuma das pessoas do filme além de Carmen Electra, Vanessa Minnillo, e Kim Kardashian, mas isso não importa. Eles são todos horríveis, embora eu ache que esse seja o ponto. A edição é horrível e, possivelmente, erros de continuidade flagrantes tornam essa porcaria ainda mais horrível do que eu pensava. Agora eu sei que esses filmes não devem ser sérios, mas vamos lá, é o cinema 101 que se alguém fizer um pequeno corte facial, ele...</td>\n",
       "    </tr>\n",
       "    <tr>\n",
       "      <th>1</th>\n",
       "      <td>1.0</td>\n",
       "      <td>I am writing this in hopes that this gets put over the previous review of this \"film\". How anyone can find this slop entertaining is completely beyond me. First of all a spoof film entitled \"Disaster Movie\", should indeed be a spoof on disaster films. Now I have seen 1 (yes count them, 1) disaster film being spoofed, that being \"Twister\". How does Juno, Iron Man, Batman, The Hulk, Alvin and the Chipmunks, Amy Winehouse, or Hancock register as Disaster films? Selzterwater and Failburg once again have shown that they lack any sort of writing skill and humor. Having unfortunately been tortured with Date Movie and Epic Movie I know exactly what to expect from these two...no plot, no jokes just bad references and cheaply remade scenes from other films. Someone should have informed them that satire is more than just copy and paste from one film to another, though I shouldn't say that because some of these actually just seem to be taken from trailers.There is nothing clever or witty or re...</td>\n",
       "      <td>Disaster Movie</td>\n",
       "      <td>Estou escrevendo isso na esperança de que isso seja colocado sobre a revisão anterior deste \"filme\". Como alguém pode achar divertido esse desleixo está completamente além de mim. Antes de mais nada, um filme de paródia intitulado \"Filme de desastre\" deveria ser, de fato, uma paródia de filmes de desastre. Agora eu já vi 1 (sim, conte-os, 1) filme de desastre sendo falsificado, sendo \"Twister\". Como Juno, Homem de Ferro, Batman, O Hulk, Alvin e os Esquilos, Amy Winehouse ou Hancock se registram como filmes de Desastre? Selzterwater e Failburg mostraram mais uma vez que não possuem nenhum tipo de habilidade e humor de escrita. Infelizmente, tendo sido torturado com Date Movie e Epic Movie, sei exatamente o que esperar desses dois ... nenhum enredo, nenhuma piada, apenas más referências e cenas refeitas de outros filmes. Alguém deveria ter informado a eles que a sátira é mais do que apenas copiar e colar de um filme para outro, embora eu não deva dizer isso porque alguns deles realme...</td>\n",
       "    </tr>\n",
       "    <tr>\n",
       "      <th>2</th>\n",
       "      <td>1.0</td>\n",
       "      <td>Really, I could write a scathing review of this turd sandwich, but instead, I'm just going to be making a few observations and points I've deduced.There's just no point in watching these movies anymore. Does any reader out there remember Scary Movie? Remember how it was original with a few comedic elements to it? There was slapstick, some funny lines, it was a pretty forgettable comedy, but it was worth the price of admission. Well, That was the last time this premise was funny. STOP MAKING THESE MOVIES. PLEASE.I could call for a boycott of these pieces of monkey sh*t, but we all know there's going to be a line up of pre pubescent annoying little buggers, spouting crappy one liners like, \"THIS IS SPARTA!\" and, \"IM RICK JAMES BITCH\" so these movies will continue to make some form of monetary gain, considering the production value of this movie looks like it cost about 10 cents to make.Don't see this movie. Don't spend any money on it. Go home, rent Airplane, laugh your ass off, and ...</td>\n",
       "      <td>Disaster Movie</td>\n",
       "      <td>Realmente, eu poderia escrever uma crítica contundente sobre esse sanduíche de cocô, mas, em vez disso, vou fazer algumas observações e pontos que deduzi. Não há mais sentido assistir a esses filmes. Algum leitor por aí se lembra do filme de terror? Lembra como era original, com alguns elementos cômicos? Havia palhaçada, algumas frases engraçadas, era uma comédia bastante esquecível, mas valia o preço da entrada. Bem, essa foi a última vez que essa premissa foi engraçada. PARE DE FAZER ESTES FILMES. POR FAVOR, eu poderia pedir um boicote a esses pedaços de macaco, mas todos sabemos que haverá uma fila de buggers irritantes e pré-pubescentes, jorrando uns forros ruins como: \"ISTO É SPARTA!\" e \"IM RICK JAMES BITCH\", para que esses filmes continuem gerando algum ganho monetário, considerando que o valor de produção deste filme parece custar cerca de 10 centavos de dólar. Não gaste dinheiro com isso. Vá para casa, alugue a Airplane, ria e julgue silenciosamente as pessoas que estão fal...</td>\n",
       "    </tr>\n",
       "    <tr>\n",
       "      <th>3</th>\n",
       "      <td>1.0</td>\n",
       "      <td>If you saw the other previous spoof movies by these two horrible gentlemen, then you should know that this already will be bad. I'll tell you the truth, if you want to watch it as a brainless person (ironically meant for the stereotypical teenagers, which I am not) then you will laugh at it a bit. But if you judge it, even a little, the movie automatically fails. Why? Never ask that when it comes to these two men.Remember the good old Hollywood days whenever making a movie was about showing people a type of art, and also a story that kept you on the edge of your seat? Well whenever word hit that making films earned you loads of cash, then all these greedy people came in the picture and its quite pathetic. These two are no exception. We still have movie artists (most notably the genius that is Christopher Nolan). But these two guys just...well I've been writing so big words, let me put it in simple terms for these guys...These guys suck, they are not artists, but instead money cravi...</td>\n",
       "      <td>Disaster Movie</td>\n",
       "      <td>Se você viu os outros filmes falsificados anteriores por esses dois senhores horríveis, deve saber que isso já será ruim. Vou lhe dizer a verdade, se você quiser vê-lo como uma pessoa sem cérebro (ironicamente para os adolescentes estereotipados, o que eu não sou), então você rirá um pouco. Mas se você julgar, mesmo que um pouco, o filme falha automaticamente. Por quê? Nunca pergunte isso quando se trata desses dois homens. Lembre-se dos bons e velhos tempos de Hollywood, sempre que fazer um filme era mostrar às pessoas um tipo de arte e também uma história que o mantinha na ponta do seu assento? Bem, sempre que a notícia de que fazer filmes ganhava muito dinheiro, então todas essas pessoas gananciosas apareciam na imagem e é bastante patético. Esses dois não são exceção. Ainda temos artistas de filmes (principalmente o gênio Christopher Nolan). Mas esses dois caras simplesmente ... bem, eu tenho escrito palavras tão grandes, deixe-me colocar em termos simples para esses caras ... ...</td>\n",
       "    </tr>\n",
       "    <tr>\n",
       "      <th>4</th>\n",
       "      <td>1.0</td>\n",
       "      <td>This movie I saw a day early for free and I still feel like I got ripped off. It is totally brain dead. Burping, kicking in the groin and boobs all over the place. Lame. What is wrong with society, that films like this even get made? The parodies were all horrendous, and un-funny. The plot was lackluster at best and the acting was shallow, transparent and really quite unnecessary.Anyone see \"Idiocracy\"? Remember the movie that won all the academy awards in the future? Well this is that movie. I have not seen a more rancid crappy film. \"Date Movie\" was okay, The Scary movies at least had decent plots, but this, this makes \"spoofs\" (if I can be so nice to call it that) for this year 0 for 3, with \"Meet the Spartans\" and \"Superhero Movie\" all falling flat.Well I've wasted even more of my life typing about this sack of cow dung. So all in all, don't see this movie, unless of course your IQ is below 80.Thanks, R</td>\n",
       "      <td>Disaster Movie</td>\n",
       "      <td>Este filme eu vi um dia cedo de graça e ainda sinto que fui enganado. É totalmente morte cerebral. Arrotando, chutando a virilha e os peitos por todo o lugar. Coxo. O que há de errado com a sociedade, que filmes como esse são feitos? As paródias eram todas horrendas e pouco engraçadas. O enredo foi sem brilho, na melhor das hipóteses, e a atuação foi superficial, transparente e realmente bastante desnecessária. Alguém vê \"Idiocracia\"? Lembra do filme que ganhou todos os prêmios da academia no futuro? Bem, este é esse filme. Eu não vi um filme de baixa qualidade mais rançoso. \"Date Movie\" foi bom, The Scary Movies pelo menos teve enredos decentes, mas isso faz \"spoofs\" (se é que posso dizer assim) para este ano 0 para 3, com \"Meet the Spartans\" e \"Filme de super-heróis\" todos caindo. Bem, eu perdi ainda mais da minha vida digitando sobre esse saco de esterco de vaca. Então, apesar de tudo, não assista a este filme, a menos que o seu QI seja inferior a 80.</td>\n",
       "    </tr>\n",
       "  </tbody>\n",
       "</table>\n",
       "</div>"
      ],
      "text/plain": [
       "   Ratings  \\\n",
       "0      1.0   \n",
       "1      1.0   \n",
       "2      1.0   \n",
       "3      1.0   \n",
       "4      1.0   \n",
       "\n",
       "                                                                                                                                                                                                                                                                                                                                                                                                                                                                                                                                                                                                                                                                                                                                                                                                                                                                                                                                                                                                                                   Reviews  \\\n",
       "0  *Disclaimer: I only watched this movie as a conditional agreement. And I see films for free. I wouldn't be caught dead giving my hard earned money to these idiots.Well, to explain the depth of this 'film', I could write my shortest review, ever. Don't see this movie. It is by far the stupidest, lamest, most lazy, and unbelievably UNFUNNY movie I have ever seen. It is a total disaster. But since my hatred for this movie, and the others like it, extends far beyond one viewing, I think I'll go on for a bit.I don't know any of the people in the movie besides Carmen Electra, Vanessa Minnillo, and Kim Kardashian, but it doesn't matter. They're all horrible, though I think that was the point. The editing is flat out horrible, and possibly blatant continuity errors make this crapfast even crappier than I thought it would be. Now I know that these films are not supposed to be serious at all, but come on, it's film-making 101 that if someone gets a minor facial cut, it should be there in the...   \n",
       "1  I am writing this in hopes that this gets put over the previous review of this \"film\". How anyone can find this slop entertaining is completely beyond me. First of all a spoof film entitled \"Disaster Movie\", should indeed be a spoof on disaster films. Now I have seen 1 (yes count them, 1) disaster film being spoofed, that being \"Twister\". How does Juno, Iron Man, Batman, The Hulk, Alvin and the Chipmunks, Amy Winehouse, or Hancock register as Disaster films? Selzterwater and Failburg once again have shown that they lack any sort of writing skill and humor. Having unfortunately been tortured with Date Movie and Epic Movie I know exactly what to expect from these two...no plot, no jokes just bad references and cheaply remade scenes from other films. Someone should have informed them that satire is more than just copy and paste from one film to another, though I shouldn't say that because some of these actually just seem to be taken from trailers.There is nothing clever or witty or re...   \n",
       "2  Really, I could write a scathing review of this turd sandwich, but instead, I'm just going to be making a few observations and points I've deduced.There's just no point in watching these movies anymore. Does any reader out there remember Scary Movie? Remember how it was original with a few comedic elements to it? There was slapstick, some funny lines, it was a pretty forgettable comedy, but it was worth the price of admission. Well, That was the last time this premise was funny. STOP MAKING THESE MOVIES. PLEASE.I could call for a boycott of these pieces of monkey sh*t, but we all know there's going to be a line up of pre pubescent annoying little buggers, spouting crappy one liners like, \"THIS IS SPARTA!\" and, \"IM RICK JAMES BITCH\" so these movies will continue to make some form of monetary gain, considering the production value of this movie looks like it cost about 10 cents to make.Don't see this movie. Don't spend any money on it. Go home, rent Airplane, laugh your ass off, and ...   \n",
       "3  If you saw the other previous spoof movies by these two horrible gentlemen, then you should know that this already will be bad. I'll tell you the truth, if you want to watch it as a brainless person (ironically meant for the stereotypical teenagers, which I am not) then you will laugh at it a bit. But if you judge it, even a little, the movie automatically fails. Why? Never ask that when it comes to these two men.Remember the good old Hollywood days whenever making a movie was about showing people a type of art, and also a story that kept you on the edge of your seat? Well whenever word hit that making films earned you loads of cash, then all these greedy people came in the picture and its quite pathetic. These two are no exception. We still have movie artists (most notably the genius that is Christopher Nolan). But these two guys just...well I've been writing so big words, let me put it in simple terms for these guys...These guys suck, they are not artists, but instead money cravi...   \n",
       "4                                                                                 This movie I saw a day early for free and I still feel like I got ripped off. It is totally brain dead. Burping, kicking in the groin and boobs all over the place. Lame. What is wrong with society, that films like this even get made? The parodies were all horrendous, and un-funny. The plot was lackluster at best and the acting was shallow, transparent and really quite unnecessary.Anyone see \"Idiocracy\"? Remember the movie that won all the academy awards in the future? Well this is that movie. I have not seen a more rancid crappy film. \"Date Movie\" was okay, The Scary movies at least had decent plots, but this, this makes \"spoofs\" (if I can be so nice to call it that) for this year 0 for 3, with \"Meet the Spartans\" and \"Superhero Movie\" all falling flat.Well I've wasted even more of my life typing about this sack of cow dung. So all in all, don't see this movie, unless of course your IQ is below 80.Thanks, R   \n",
       "\n",
       "           Movies  \\\n",
       "0  Disaster Movie   \n",
       "1  Disaster Movie   \n",
       "2  Disaster Movie   \n",
       "3  Disaster Movie   \n",
       "4  Disaster Movie   \n",
       "\n",
       "                                                                                                                                                                                                                                                                                                                                                                                                                                                                                                                                                                                                                                                                                                                                                                                                                                                                                                                                                                                                                                  Resenhas  \n",
       "0  * Isenção de responsabilidade: eu só assisti esse filme como um acordo condicional. E eu vejo filmes de graça. Eu não seria pego morto dando meu dinheiro suado a esses idiotas. Bem, para explicar a profundidade desse 'filme', eu poderia escrever minha crítica mais curta de todos os tempos. Não vê este filme. É de longe o filme mais estúpido, lamenta, preguiçoso e inacreditavelmente UNFUNNY que eu já vi. É um desastre total. Mas como o meu ódio por este filme e por outros, se estende muito além de uma exibição, acho que vou continuar um pouco. Não conheço nenhuma das pessoas do filme além de Carmen Electra, Vanessa Minnillo, e Kim Kardashian, mas isso não importa. Eles são todos horríveis, embora eu ache que esse seja o ponto. A edição é horrível e, possivelmente, erros de continuidade flagrantes tornam essa porcaria ainda mais horrível do que eu pensava. Agora eu sei que esses filmes não devem ser sérios, mas vamos lá, é o cinema 101 que se alguém fizer um pequeno corte facial, ele...  \n",
       "1  Estou escrevendo isso na esperança de que isso seja colocado sobre a revisão anterior deste \"filme\". Como alguém pode achar divertido esse desleixo está completamente além de mim. Antes de mais nada, um filme de paródia intitulado \"Filme de desastre\" deveria ser, de fato, uma paródia de filmes de desastre. Agora eu já vi 1 (sim, conte-os, 1) filme de desastre sendo falsificado, sendo \"Twister\". Como Juno, Homem de Ferro, Batman, O Hulk, Alvin e os Esquilos, Amy Winehouse ou Hancock se registram como filmes de Desastre? Selzterwater e Failburg mostraram mais uma vez que não possuem nenhum tipo de habilidade e humor de escrita. Infelizmente, tendo sido torturado com Date Movie e Epic Movie, sei exatamente o que esperar desses dois ... nenhum enredo, nenhuma piada, apenas más referências e cenas refeitas de outros filmes. Alguém deveria ter informado a eles que a sátira é mais do que apenas copiar e colar de um filme para outro, embora eu não deva dizer isso porque alguns deles realme...  \n",
       "2  Realmente, eu poderia escrever uma crítica contundente sobre esse sanduíche de cocô, mas, em vez disso, vou fazer algumas observações e pontos que deduzi. Não há mais sentido assistir a esses filmes. Algum leitor por aí se lembra do filme de terror? Lembra como era original, com alguns elementos cômicos? Havia palhaçada, algumas frases engraçadas, era uma comédia bastante esquecível, mas valia o preço da entrada. Bem, essa foi a última vez que essa premissa foi engraçada. PARE DE FAZER ESTES FILMES. POR FAVOR, eu poderia pedir um boicote a esses pedaços de macaco, mas todos sabemos que haverá uma fila de buggers irritantes e pré-pubescentes, jorrando uns forros ruins como: \"ISTO É SPARTA!\" e \"IM RICK JAMES BITCH\", para que esses filmes continuem gerando algum ganho monetário, considerando que o valor de produção deste filme parece custar cerca de 10 centavos de dólar. Não gaste dinheiro com isso. Vá para casa, alugue a Airplane, ria e julgue silenciosamente as pessoas que estão fal...  \n",
       "3  Se você viu os outros filmes falsificados anteriores por esses dois senhores horríveis, deve saber que isso já será ruim. Vou lhe dizer a verdade, se você quiser vê-lo como uma pessoa sem cérebro (ironicamente para os adolescentes estereotipados, o que eu não sou), então você rirá um pouco. Mas se você julgar, mesmo que um pouco, o filme falha automaticamente. Por quê? Nunca pergunte isso quando se trata desses dois homens. Lembre-se dos bons e velhos tempos de Hollywood, sempre que fazer um filme era mostrar às pessoas um tipo de arte e também uma história que o mantinha na ponta do seu assento? Bem, sempre que a notícia de que fazer filmes ganhava muito dinheiro, então todas essas pessoas gananciosas apareciam na imagem e é bastante patético. Esses dois não são exceção. Ainda temos artistas de filmes (principalmente o gênio Christopher Nolan). Mas esses dois caras simplesmente ... bem, eu tenho escrito palavras tão grandes, deixe-me colocar em termos simples para esses caras ... ...  \n",
       "4                                 Este filme eu vi um dia cedo de graça e ainda sinto que fui enganado. É totalmente morte cerebral. Arrotando, chutando a virilha e os peitos por todo o lugar. Coxo. O que há de errado com a sociedade, que filmes como esse são feitos? As paródias eram todas horrendas e pouco engraçadas. O enredo foi sem brilho, na melhor das hipóteses, e a atuação foi superficial, transparente e realmente bastante desnecessária. Alguém vê \"Idiocracia\"? Lembra do filme que ganhou todos os prêmios da academia no futuro? Bem, este é esse filme. Eu não vi um filme de baixa qualidade mais rançoso. \"Date Movie\" foi bom, The Scary Movies pelo menos teve enredos decentes, mas isso faz \"spoofs\" (se é que posso dizer assim) para este ano 0 para 3, com \"Meet the Spartans\" e \"Filme de super-heróis\" todos caindo. Bem, eu perdi ainda mais da minha vida digitando sobre esse saco de esterco de vaca. Então, apesar de tudo, não assista a este filme, a menos que o seu QI seja inferior a 80.  "
      ]
     },
     "execution_count": 36,
     "metadata": {},
     "output_type": "execute_result"
    }
   ],
   "source": [
    "df.head()"
   ]
  },
  {
   "cell_type": "code",
   "execution_count": 37,
   "metadata": {},
   "outputs": [
    {
     "data": {
      "text/html": [
       "<div>\n",
       "<style scoped>\n",
       "    .dataframe tbody tr th:only-of-type {\n",
       "        vertical-align: middle;\n",
       "    }\n",
       "\n",
       "    .dataframe tbody tr th {\n",
       "        vertical-align: top;\n",
       "    }\n",
       "\n",
       "    .dataframe thead th {\n",
       "        text-align: right;\n",
       "    }\n",
       "</style>\n",
       "<table border=\"1\" class=\"dataframe\">\n",
       "  <thead>\n",
       "    <tr style=\"text-align: right;\">\n",
       "      <th></th>\n",
       "      <th>Ratings</th>\n",
       "      <th>Reviews</th>\n",
       "      <th>Movies</th>\n",
       "      <th>Resenhas</th>\n",
       "    </tr>\n",
       "  </thead>\n",
       "  <tbody>\n",
       "    <tr>\n",
       "      <th>149995</th>\n",
       "      <td>10.0</td>\n",
       "      <td>GoldenEye (1995) is my number 1 personal favorite movie of all time! James Bond 007 action film the best one that was ever made. In my opinion it is the best one I love this movie to death! I grew up watching it as a child and Pierce Brosnan is my number 1 favorite James Bond. GoldenEye is the first film to star Pierce Brosnan as the fictional MI6 officer James Bond. The film was directed by Martin Campbell and is the first in the series not to take story elements from the works of novelist Ian Fleming.I'm a hard-core James Bond fan. I make no apologies for believing that Pierce Brosnan is the closest thing we've seen to IAN FLEMING's James Bond. The reason because it is my favorite it is because I feel it is just action, action , action and more action. I never feel bored with it, or it is too over long like some Bond movies are it is fast paced, entertaining and hard core action. The plot is simply and the story never get's bored. It is a beautiful movie, with beautiful direction...</td>\n",
       "      <td>GoldenEye</td>\n",
       "      <td>GoldenEye (1995) é o meu filme favorito pessoal número 1 de todos os tempos! O filme de ação James Bond 007 é o melhor que já foi feito. Na minha opinião, é o melhor que eu amo este filme até a morte! Eu cresci assistindo quando criança e Pierce Brosnan é meu James Bond favorito número 1. GoldenEye é o primeiro filme a estrelar Pierce Brosnan como o oficial fictício do MI6 James Bond. O filme foi dirigido por Martin Campbell e é o primeiro da série a não extrair elementos da história dos trabalhos do romancista Ian Fleming. Sou fã de James Bond. Não peço desculpas por acreditar que Pierce Brosnan é a coisa mais próxima que vimos de James Bond do IAN FLEMING. A razão porque é o meu favorito é porque sinto que é apenas ação, ação, ação e mais ação. Eu nunca me sinto entediado com isso, ou é muito longo, como em alguns filmes de Bond, é rápido, divertido e com uma ação central. O enredo é simples e a história nunca fica entediada. É um filme bonito, com direção bonita de Martin Campbe...</td>\n",
       "    </tr>\n",
       "    <tr>\n",
       "      <th>149996</th>\n",
       "      <td>10.0</td>\n",
       "      <td>*** 1/2Starring: Pierce Brosnan, Izabella Scorupco, Sean Bean, and Famke Janssen.Double-0 agent James Bond, still as suave and sophisticated as he was in the last film, enters Russia in search of the stolen Goldeneye satellite. \\nAfter six years without 007, the fans needed a movie like this.  Just about everything in this works, from the witty plot to Pierce Brosnan as the new Bond.  And I can't review this without complimenting Sean Bean as the series best villain.Rank in the Series: 1st</td>\n",
       "      <td>GoldenEye</td>\n",
       "      <td>Estrelando: Pierce Brosnan, Izabella Scorupco, Sean Bean e Famke Janssen, o agente James Bond, ainda tão suave e sofisticado quanto no último filme, entra na Rússia em busca do satélite Goldeneye roubado.\\nDepois de seis anos sem 007, os fãs precisavam de um filme como este. Quase tudo neste trabalho, desde o enredo espirituoso até Pierce Brosnan como o novo Bond. E eu não posso revisar isso sem elogiar Sean Bean como o melhor vilão da série.</td>\n",
       "    </tr>\n",
       "    <tr>\n",
       "      <th>149997</th>\n",
       "      <td>10.0</td>\n",
       "      <td>I've given this film a 10, not just because I thoroughly enjoyed it, but because I believe its the best Bond ever made. It was actually the first one I watched as well (I watched it when I was 8 and am now 16.) I have seen the rest of them since and still have this one down as my favourite. Pierce Brosnan is terrific in his first appearance as Bond and I think him and Connery are the best of them all who've stepped into the role so far. Izabella Scorupco is gorgeous as his sidekick Bond Girl, and Famke Janssen is brilliant as the sexy villain, partnering Sean Bean, whose also excellent.The plot is simple and interesting, and more importantly, the action sequences are truly outstanding. The opening 10-15 minutes is definitely right up there with the best bond openings and again, probably the best. The movie never drags like several others have before in which I wish the action would just get going after a while. Other action sequences that are decent include some good aircraft crash...</td>\n",
       "      <td>GoldenEye</td>\n",
       "      <td>Eu dei 10 a este filme, não apenas porque eu gostei muito, mas porque acredito que é o melhor Bond já feito. Na verdade, foi o primeiro que eu assisti (assisti quando tinha 8 e agora tenho 16 anos). Vi o resto deles desde então e ainda tenho esse aqui como meu favorito. Pierce Brosnan é ótimo em sua primeira aparição como Bond, e eu acho que ele e Connery são os melhores de todos que entraram no papel até agora. Izabella Scorupco é linda como sua parceira Bond Girl, e Famke Janssen é brilhante como a vilã sexy, em parceria com Sean Bean, que também é excelente. A abertura de 10 a 15 minutos é definitivamente lá em cima, com as melhores aberturas de bônus e, novamente, provavelmente a melhor. O filme nunca se arrasta como vários outros antes, no qual eu gostaria que a ação continuasse depois de um tempo. Outras seqüências de ação decentes incluem algumas boas quedas e explosões de aeronaves em uma antena parabólica, um grande tiroteio em um arquivo militar, que leva ao destaque do f...</td>\n",
       "    </tr>\n",
       "    <tr>\n",
       "      <th>149998</th>\n",
       "      <td>10.0</td>\n",
       "      <td>I absolutely adore this movie. What a comeback for Bond, after the Timothy Dalton Bond's the franchise had been officially declared death by many and no one expected another Bond movie. This movie perfectly sets the mood for the future Bond movies for the 90's and this decade. The action is what makes this movie in a way more of this time. In a way the Bond franchise matured and became a competitor at the box office's again. Still all the 'old' Bond elements are all present once more in this movie and it still stays loyal to the franchise so many grew up with watching.The villains are the best ever in a Bond movie since \"Goldfinger\". Funny because this movie is also the in my opinion the best Bond movie since \"Goldfinger\". I think that tells something about how important the Bond villains always are for Bond movies. Sean Bean is a memorable and worthy nemesis for Bond and Alan Cumming is an excellent and fun 'villain'. But most memorable is Famke Janssen with literally the most dea...</td>\n",
       "      <td>GoldenEye</td>\n",
       "      <td>Eu absolutamente adoro este filme. Que retorno para Bond, depois de Timothy Dalton Bond, a franquia foi oficialmente declarada morte por muitos e ninguém esperava outro filme de Bond. Este filme define perfeitamente o clima para os futuros filmes de Bond nos anos 90 e nesta década. A ação é o que torna este filme de uma maneira mais deste tempo. De certa forma, a franquia Bond amadureceu e tornou-se novamente um concorrente nas bilheterias. Ainda assim, todos os elementos 'antigos' de Bond estão presentes mais uma vez neste filme e ainda permanece fiel à franquia que muitos cresceram assistindo.Vilões são os melhores de todos os tempos em um filme de Bond desde \"Goldfinger\". Engraçado porque esse filme também é, na minha opinião, o melhor filme de Bond desde \"Goldfinger\". Eu acho que isso diz algo sobre a importância dos vilões de Bond para os filmes de Bond. Sean Bean é um inimigo memorável e digno de Bond e Alan Cumming é um excelente e divertido 'vilão'. Mas o mais memorável é o...</td>\n",
       "    </tr>\n",
       "    <tr>\n",
       "      <th>149999</th>\n",
       "      <td>10.0</td>\n",
       "      <td>I rented Boogie Nights last week and I could tell you, when I watched the film I had a blast. If you think that when you watch the film you will get sicked by the porn. I mean yes, if your not a porn person who can't bother being by it, than this isn't the film to see. But the thing is, the whole film isn't really about porn. Well halfway through the film is about the porn industry but the other half is about the character development and the bad situations these characters go through. The actors played there roles perfect, especially Mark Wahlberg, John C. Reilly, and William H. Macy. The sex scenes, of course are terrific but mainly focus on the character's hype in porn films until there struggles. Excellent film, one of the best! Hedeen's Outlook: 10/10 **** A+</td>\n",
       "      <td>Boogie Nights</td>\n",
       "      <td>Aluguei o Boogie Nights na semana passada e pude contar, quando assisti ao filme, me diverti muito. Se você acha que, quando assiste ao filme, ficará doente pelo pornô. Quero dizer, sim, se você não é uma pessoa pornográfica que não pode se incomodar com isso, então este não é o filme para assistir. Mas o fato é que todo o filme não é realmente sobre pornografia. Bem, na metade do filme, trata-se da indústria pornográfica, mas a outra metade é sobre o desenvolvimento dos personagens e as más situações pelas quais esses personagens passam. Os atores interpretaram papéis perfeitos, especialmente Mark Wahlberg, John C. Reilly e William H. Macy. As cenas de sexo, é claro, são fantásticas, mas concentram-se principalmente no hype do personagem nos filmes pornográficos até que haja dificuldades. Excelente filme, um dos melhores! Perspectivas de Hedeen: 10/10 **** A +</td>\n",
       "    </tr>\n",
       "  </tbody>\n",
       "</table>\n",
       "</div>"
      ],
      "text/plain": [
       "        Ratings  \\\n",
       "149995     10.0   \n",
       "149996     10.0   \n",
       "149997     10.0   \n",
       "149998     10.0   \n",
       "149999     10.0   \n",
       "\n",
       "                                                                                                                                                                                                                                                                                                                                                                                                                                                                                                                                                                                                                                                                                                                                                                                                                                                                                                                                                                                                                                        Reviews  \\\n",
       "149995  GoldenEye (1995) is my number 1 personal favorite movie of all time! James Bond 007 action film the best one that was ever made. In my opinion it is the best one I love this movie to death! I grew up watching it as a child and Pierce Brosnan is my number 1 favorite James Bond. GoldenEye is the first film to star Pierce Brosnan as the fictional MI6 officer James Bond. The film was directed by Martin Campbell and is the first in the series not to take story elements from the works of novelist Ian Fleming.I'm a hard-core James Bond fan. I make no apologies for believing that Pierce Brosnan is the closest thing we've seen to IAN FLEMING's James Bond. The reason because it is my favorite it is because I feel it is just action, action , action and more action. I never feel bored with it, or it is too over long like some Bond movies are it is fast paced, entertaining and hard core action. The plot is simply and the story never get's bored. It is a beautiful movie, with beautiful direction...   \n",
       "149996                                                                                                                                                                                                                                                                                                                                                                                                                                                                                                                           *** 1/2Starring: Pierce Brosnan, Izabella Scorupco, Sean Bean, and Famke Janssen.Double-0 agent James Bond, still as suave and sophisticated as he was in the last film, enters Russia in search of the stolen Goldeneye satellite. \\nAfter six years without 007, the fans needed a movie like this.  Just about everything in this works, from the witty plot to Pierce Brosnan as the new Bond.  And I can't review this without complimenting Sean Bean as the series best villain.Rank in the Series: 1st   \n",
       "149997  I've given this film a 10, not just because I thoroughly enjoyed it, but because I believe its the best Bond ever made. It was actually the first one I watched as well (I watched it when I was 8 and am now 16.) I have seen the rest of them since and still have this one down as my favourite. Pierce Brosnan is terrific in his first appearance as Bond and I think him and Connery are the best of them all who've stepped into the role so far. Izabella Scorupco is gorgeous as his sidekick Bond Girl, and Famke Janssen is brilliant as the sexy villain, partnering Sean Bean, whose also excellent.The plot is simple and interesting, and more importantly, the action sequences are truly outstanding. The opening 10-15 minutes is definitely right up there with the best bond openings and again, probably the best. The movie never drags like several others have before in which I wish the action would just get going after a while. Other action sequences that are decent include some good aircraft crash...   \n",
       "149998  I absolutely adore this movie. What a comeback for Bond, after the Timothy Dalton Bond's the franchise had been officially declared death by many and no one expected another Bond movie. This movie perfectly sets the mood for the future Bond movies for the 90's and this decade. The action is what makes this movie in a way more of this time. In a way the Bond franchise matured and became a competitor at the box office's again. Still all the 'old' Bond elements are all present once more in this movie and it still stays loyal to the franchise so many grew up with watching.The villains are the best ever in a Bond movie since \"Goldfinger\". Funny because this movie is also the in my opinion the best Bond movie since \"Goldfinger\". I think that tells something about how important the Bond villains always are for Bond movies. Sean Bean is a memorable and worthy nemesis for Bond and Alan Cumming is an excellent and fun 'villain'. But most memorable is Famke Janssen with literally the most dea...   \n",
       "149999                                                                                                                                                                                                                                   I rented Boogie Nights last week and I could tell you, when I watched the film I had a blast. If you think that when you watch the film you will get sicked by the porn. I mean yes, if your not a porn person who can't bother being by it, than this isn't the film to see. But the thing is, the whole film isn't really about porn. Well halfway through the film is about the porn industry but the other half is about the character development and the bad situations these characters go through. The actors played there roles perfect, especially Mark Wahlberg, John C. Reilly, and William H. Macy. The sex scenes, of course are terrific but mainly focus on the character's hype in porn films until there struggles. Excellent film, one of the best! Hedeen's Outlook: 10/10 **** A+   \n",
       "\n",
       "               Movies  \\\n",
       "149995      GoldenEye   \n",
       "149996      GoldenEye   \n",
       "149997      GoldenEye   \n",
       "149998      GoldenEye   \n",
       "149999  Boogie Nights   \n",
       "\n",
       "                                                                                                                                                                                                                                                                                                                                                                                                                                                                                                                                                                                                                                                                                                                                                                                                                                                                                                                                                                                                                                       Resenhas  \n",
       "149995  GoldenEye (1995) é o meu filme favorito pessoal número 1 de todos os tempos! O filme de ação James Bond 007 é o melhor que já foi feito. Na minha opinião, é o melhor que eu amo este filme até a morte! Eu cresci assistindo quando criança e Pierce Brosnan é meu James Bond favorito número 1. GoldenEye é o primeiro filme a estrelar Pierce Brosnan como o oficial fictício do MI6 James Bond. O filme foi dirigido por Martin Campbell e é o primeiro da série a não extrair elementos da história dos trabalhos do romancista Ian Fleming. Sou fã de James Bond. Não peço desculpas por acreditar que Pierce Brosnan é a coisa mais próxima que vimos de James Bond do IAN FLEMING. A razão porque é o meu favorito é porque sinto que é apenas ação, ação, ação e mais ação. Eu nunca me sinto entediado com isso, ou é muito longo, como em alguns filmes de Bond, é rápido, divertido e com uma ação central. O enredo é simples e a história nunca fica entediada. É um filme bonito, com direção bonita de Martin Campbe...  \n",
       "149996                                                                                                                                                                                                                                                                                                                                                                                                                                                                                                                                                                           Estrelando: Pierce Brosnan, Izabella Scorupco, Sean Bean e Famke Janssen, o agente James Bond, ainda tão suave e sofisticado quanto no último filme, entra na Rússia em busca do satélite Goldeneye roubado.\\nDepois de seis anos sem 007, os fãs precisavam de um filme como este. Quase tudo neste trabalho, desde o enredo espirituoso até Pierce Brosnan como o novo Bond. E eu não posso revisar isso sem elogiar Sean Bean como o melhor vilão da série.  \n",
       "149997  Eu dei 10 a este filme, não apenas porque eu gostei muito, mas porque acredito que é o melhor Bond já feito. Na verdade, foi o primeiro que eu assisti (assisti quando tinha 8 e agora tenho 16 anos). Vi o resto deles desde então e ainda tenho esse aqui como meu favorito. Pierce Brosnan é ótimo em sua primeira aparição como Bond, e eu acho que ele e Connery são os melhores de todos que entraram no papel até agora. Izabella Scorupco é linda como sua parceira Bond Girl, e Famke Janssen é brilhante como a vilã sexy, em parceria com Sean Bean, que também é excelente. A abertura de 10 a 15 minutos é definitivamente lá em cima, com as melhores aberturas de bônus e, novamente, provavelmente a melhor. O filme nunca se arrasta como vários outros antes, no qual eu gostaria que a ação continuasse depois de um tempo. Outras seqüências de ação decentes incluem algumas boas quedas e explosões de aeronaves em uma antena parabólica, um grande tiroteio em um arquivo militar, que leva ao destaque do f...  \n",
       "149998  Eu absolutamente adoro este filme. Que retorno para Bond, depois de Timothy Dalton Bond, a franquia foi oficialmente declarada morte por muitos e ninguém esperava outro filme de Bond. Este filme define perfeitamente o clima para os futuros filmes de Bond nos anos 90 e nesta década. A ação é o que torna este filme de uma maneira mais deste tempo. De certa forma, a franquia Bond amadureceu e tornou-se novamente um concorrente nas bilheterias. Ainda assim, todos os elementos 'antigos' de Bond estão presentes mais uma vez neste filme e ainda permanece fiel à franquia que muitos cresceram assistindo.Vilões são os melhores de todos os tempos em um filme de Bond desde \"Goldfinger\". Engraçado porque esse filme também é, na minha opinião, o melhor filme de Bond desde \"Goldfinger\". Eu acho que isso diz algo sobre a importância dos vilões de Bond para os filmes de Bond. Sean Bean é um inimigo memorável e digno de Bond e Alan Cumming é um excelente e divertido 'vilão'. Mas o mais memorável é o...  \n",
       "149999                                                                                                                                Aluguei o Boogie Nights na semana passada e pude contar, quando assisti ao filme, me diverti muito. Se você acha que, quando assiste ao filme, ficará doente pelo pornô. Quero dizer, sim, se você não é uma pessoa pornográfica que não pode se incomodar com isso, então este não é o filme para assistir. Mas o fato é que todo o filme não é realmente sobre pornografia. Bem, na metade do filme, trata-se da indústria pornográfica, mas a outra metade é sobre o desenvolvimento dos personagens e as más situações pelas quais esses personagens passam. Os atores interpretaram papéis perfeitos, especialmente Mark Wahlberg, John C. Reilly e William H. Macy. As cenas de sexo, é claro, são fantásticas, mas concentram-se principalmente no hype do personagem nos filmes pornográficos até que haja dificuldades. Excelente filme, um dos melhores! Perspectivas de Hedeen: 10/10 **** A +  "
      ]
     },
     "execution_count": 37,
     "metadata": {},
     "output_type": "execute_result"
    }
   ],
   "source": [
    "df.tail()"
   ]
  },
  {
   "cell_type": "code",
   "execution_count": 38,
   "metadata": {},
   "outputs": [
    {
     "name": "stdout",
     "output_type": "stream",
     "text": [
      "{'into', 'too', 'mustn', \"wasn't\", \"haven't\", 'own', 'mightn', \"shan't\", \"doesn't\", 'needn', 'having', 'been', 'their', 'myself', 'during', 'no', 'yourself', 'on', 'than', \"should've\", 'ain', \"you're\", 'once', 'now', 'can', 'hasn', 'doesn', 'those', 'that', 'won', 'when', \"she's\", 'they', 'at', 'in', 'be', \"you'll\", 'them', 'isn', 'do', 'or', 'above', 't', 'hadn', 'so', 'while', 'such', 'shan', 'because', 'might', 'these', \"it's\", 'my', \"you've\", 'himself', 'don', 'it', 'before', \"isn't\", 'm', 'just', 'being', 'very', 'only', 's', 'was', 'weren', 'nor', 'any', 'which', \"don't\", \"mightn't\", 'whom', 'doing', 'with', 'how', 'for', 'are', 'over', 'its', 'hers', 'as', 'from', 've', 'am', \"aren't\", 'have', 'and', 'y', 'couldn', \"shouldn't\", 'what', 'other', 'few', 'theirs', 'her', 'did', 'could', 'where', 'has', 'yours', 'll', 'most', \"couldn't\", 'up', \"hasn't\", 'i', 'haven', 'would', 'he', 'same', 'a', 'again', 'after', 'wasn', \"didn't\", 'ourselves', 'of', 'does', 'through', 'an', 'against', 'under', \"weren't\", 'you', 'shall', 'herself', 'itself', 'to', 'aren', 'there', 'this', 'about', 'had', 'further', 'the', 'some', 'but', 'yourselves', 'wouldn', 'will', 'me', 'who', 'off', 'your', 'ma', 'by', 'she', \"wouldn't\", \"won't\", 'until', 'shouldn', 'him', 'were', 'both', \"that'll\", 're', 'between', 'here', 'd', 'didn', 'our', 'below', \"hadn't\", 'then', 'down', \"you'd\", 'ours', \"needn't\", 'all', 'each', 'should', 'we', 'is', 'his', 'o', 'more', 'themselves', \"mustn't\", 'out', 'if', 'why'}\n"
     ]
    }
   ],
   "source": [
    "#Customize stopword as per data\n",
    "\n",
    "from nltk.corpus import stopwords\n",
    "stop_words = stopwords.words('english')\n",
    "new_stopwords = [\"would\",\"shall\",\"could\",\"might\"]\n",
    "stop_words.extend(new_stopwords)\n",
    "stop_words.remove(\"not\")\n",
    "stop_words=set(stop_words)\n",
    "print(stop_words)"
   ]
  },
  {
   "cell_type": "code",
   "execution_count": 39,
   "metadata": {},
   "outputs": [],
   "source": [
    "\n",
    "#Removing special character\n",
    "def remove_special_character(content):\n",
    "    return re.sub('\\W+',' ', content )#re.sub('\\[[^&@#!]]*\\]', '', content)\n",
    "\n",
    "# Removing URL's\n",
    "def remove_url(content):\n",
    "    return re.sub(r'http\\S+', '', content)\n",
    "\n",
    "#Removing the stopwords from text\n",
    "def remove_stopwords(content):\n",
    "    clean_data = []\n",
    "    for i in content.split():\n",
    "        if i.strip().lower() not in stop_words and i.strip().lower().isalpha():\n",
    "            clean_data.append(i.strip().lower())\n",
    "    return \" \".join(clean_data)\n",
    "\n",
    "# Expansion of english contractions\n",
    "def contraction_expansion(content):\n",
    "    content = re.sub(r\"won\\'t\", \"would not\", content)\n",
    "    content = re.sub(r\"can\\'t\", \"can not\", content)\n",
    "    content = re.sub(r\"don\\'t\", \"do not\", content)\n",
    "    content = re.sub(r\"shouldn\\'t\", \"should not\", content)\n",
    "    \n",
    "    content = re.sub(r\"needn\\'t\", \"need not\", content)\n",
    "    content = re.sub(r\"hasn\\'t\", \"has not\", content)\n",
    "    content = re.sub(r\"haven\\'t\", \"have not\", content)\n",
    "    content = re.sub(r\"weren\\'t\", \"were not\", content)\n",
    "    content = re.sub(r\"mightn\\'t\", \"might not\", content)\n",
    "    content = re.sub(r\"didn\\'t\", \"did not\", content)\n",
    "    content = re.sub(r\"n\\'t\", \" not\", content)\n",
    "    '''content = re.sub(r\"\\'re\", \" are\", content)\n",
    "    content = re.sub(r\"\\'s\", \" is\", content)\n",
    "    content = re.sub(r\"\\'d\", \" would\", content)\n",
    "    content = re.sub(r\"\\'ll\", \" will\", content)\n",
    "    content = re.sub(r\"\\'t\", \" not\", content)\n",
    "    content = re.sub(r\"\\'ve\", \" have\", content)\n",
    "    content = re.sub(r\"\\'m\", \" am\", content)'''\n",
    "    return content\n",
    "\n",
    "#Data preprocessing\n",
    "def data_cleaning(content):\n",
    "    content = contraction_expansion(content)\n",
    "    content = remove_special_character(content)\n",
    "    content = remove_url(content)\n",
    "    \n",
    "    content = remove_stopwords(content)    \n",
    "    return content"
   ]
  },
  {
   "cell_type": "code",
   "execution_count": 40,
   "metadata": {},
   "outputs": [
    {
     "name": "stdout",
     "output_type": "stream",
     "text": [
      "CPU times: total: 2.16 s\n",
      "Wall time: 16.1 s\n"
     ]
    },
    {
     "data": {
      "text/html": [
       "<div>\n",
       "<style scoped>\n",
       "    .dataframe tbody tr th:only-of-type {\n",
       "        vertical-align: middle;\n",
       "    }\n",
       "\n",
       "    .dataframe tbody tr th {\n",
       "        vertical-align: top;\n",
       "    }\n",
       "\n",
       "    .dataframe thead th {\n",
       "        text-align: right;\n",
       "    }\n",
       "</style>\n",
       "<table border=\"1\" class=\"dataframe\">\n",
       "  <thead>\n",
       "    <tr style=\"text-align: right;\">\n",
       "      <th></th>\n",
       "      <th>Ratings</th>\n",
       "      <th>Reviews</th>\n",
       "      <th>Movies</th>\n",
       "      <th>Resenhas</th>\n",
       "      <th>Reviews_clean</th>\n",
       "    </tr>\n",
       "  </thead>\n",
       "  <tbody>\n",
       "    <tr>\n",
       "      <th>0</th>\n",
       "      <td>1.0</td>\n",
       "      <td>*Disclaimer: I only watched this movie as a conditional agreement. And I see films for free. I wouldn't be caught dead giving my hard earned money to these idiots.Well, to explain the depth of this 'film', I could write my shortest review, ever. Don't see this movie. It is by far the stupidest, lamest, most lazy, and unbelievably UNFUNNY movie I have ever seen. It is a total disaster. But since my hatred for this movie, and the others like it, extends far beyond one viewing, I think I'll go on for a bit.I don't know any of the people in the movie besides Carmen Electra, Vanessa Minnillo, and Kim Kardashian, but it doesn't matter. They're all horrible, though I think that was the point. The editing is flat out horrible, and possibly blatant continuity errors make this crapfast even crappier than I thought it would be. Now I know that these films are not supposed to be serious at all, but come on, it's film-making 101 that if someone gets a minor facial cut, it should be there in the...</td>\n",
       "      <td>Disaster Movie</td>\n",
       "      <td>* Isenção de responsabilidade: eu só assisti esse filme como um acordo condicional. E eu vejo filmes de graça. Eu não seria pego morto dando meu dinheiro suado a esses idiotas. Bem, para explicar a profundidade desse 'filme', eu poderia escrever minha crítica mais curta de todos os tempos. Não vê este filme. É de longe o filme mais estúpido, lamenta, preguiçoso e inacreditavelmente UNFUNNY que eu já vi. É um desastre total. Mas como o meu ódio por este filme e por outros, se estende muito além de uma exibição, acho que vou continuar um pouco. Não conheço nenhuma das pessoas do filme além de Carmen Electra, Vanessa Minnillo, e Kim Kardashian, mas isso não importa. Eles são todos horríveis, embora eu ache que esse seja o ponto. A edição é horrível e, possivelmente, erros de continuidade flagrantes tornam essa porcaria ainda mais horrível do que eu pensava. Agora eu sei que esses filmes não devem ser sérios, mas vamos lá, é o cinema 101 que se alguém fizer um pequeno corte facial, ele...</td>\n",
       "      <td>disclaimer watched movie conditional agreement see films free not caught dead giving hard earned money idiots well explain depth film write shortest review ever not see movie far stupidest lamest lazy unbelievably unfunny movie ever seen total disaster since hatred movie others like extends far beyond one viewing think go bit not know people movie besides carmen electra vanessa minnillo kim kardashian not matter horrible though think point editing flat horrible possibly blatant continuity errors make crapfast even crappier thought know films not supposed serious come film making someone gets minor facial cut next shot someone gets cut sword blood least cut though since narnia films get away give disaster movie pass jokes thoughtless mindless physical gags obviously take popular movies last year late well including best picture nominees know saddest thing stupid movies not care much money make many cameos sorry ass excuses films taking away jobs actors writers directors truly deserv...</td>\n",
       "    </tr>\n",
       "    <tr>\n",
       "      <th>1</th>\n",
       "      <td>1.0</td>\n",
       "      <td>I am writing this in hopes that this gets put over the previous review of this \"film\". How anyone can find this slop entertaining is completely beyond me. First of all a spoof film entitled \"Disaster Movie\", should indeed be a spoof on disaster films. Now I have seen 1 (yes count them, 1) disaster film being spoofed, that being \"Twister\". How does Juno, Iron Man, Batman, The Hulk, Alvin and the Chipmunks, Amy Winehouse, or Hancock register as Disaster films? Selzterwater and Failburg once again have shown that they lack any sort of writing skill and humor. Having unfortunately been tortured with Date Movie and Epic Movie I know exactly what to expect from these two...no plot, no jokes just bad references and cheaply remade scenes from other films. Someone should have informed them that satire is more than just copy and paste from one film to another, though I shouldn't say that because some of these actually just seem to be taken from trailers.There is nothing clever or witty or re...</td>\n",
       "      <td>Disaster Movie</td>\n",
       "      <td>Estou escrevendo isso na esperança de que isso seja colocado sobre a revisão anterior deste \"filme\". Como alguém pode achar divertido esse desleixo está completamente além de mim. Antes de mais nada, um filme de paródia intitulado \"Filme de desastre\" deveria ser, de fato, uma paródia de filmes de desastre. Agora eu já vi 1 (sim, conte-os, 1) filme de desastre sendo falsificado, sendo \"Twister\". Como Juno, Homem de Ferro, Batman, O Hulk, Alvin e os Esquilos, Amy Winehouse ou Hancock se registram como filmes de Desastre? Selzterwater e Failburg mostraram mais uma vez que não possuem nenhum tipo de habilidade e humor de escrita. Infelizmente, tendo sido torturado com Date Movie e Epic Movie, sei exatamente o que esperar desses dois ... nenhum enredo, nenhuma piada, apenas más referências e cenas refeitas de outros filmes. Alguém deveria ter informado a eles que a sátira é mais do que apenas copiar e colar de um filme para outro, embora eu não deva dizer isso porque alguns deles realme...</td>\n",
       "      <td>writing hopes gets put previous review film anyone find slop entertaining completely beyond first spoof film entitled disaster movie indeed spoof disaster films seen yes count disaster film spoofed twister juno iron man batman hulk alvin chipmunks amy winehouse hancock register disaster films selzterwater failburg shown lack sort writing skill humor unfortunately tortured date movie epic movie know exactly expect two plot jokes bad references cheaply remade scenes films someone informed satire copy paste one film another though not say actually seem taken trailers nothing clever witty remotely smart way two write not believe people still pay see travesties insult audience though enjoy films doubt smart enough realize rating unfortunately not number low enough yes includes negatives rate deserves top worst films time right date movie epic faliure mean movie meet spartans rather forced hour manos hands fate marathon watch slop</td>\n",
       "    </tr>\n",
       "    <tr>\n",
       "      <th>2</th>\n",
       "      <td>1.0</td>\n",
       "      <td>Really, I could write a scathing review of this turd sandwich, but instead, I'm just going to be making a few observations and points I've deduced.There's just no point in watching these movies anymore. Does any reader out there remember Scary Movie? Remember how it was original with a few comedic elements to it? There was slapstick, some funny lines, it was a pretty forgettable comedy, but it was worth the price of admission. Well, That was the last time this premise was funny. STOP MAKING THESE MOVIES. PLEASE.I could call for a boycott of these pieces of monkey sh*t, but we all know there's going to be a line up of pre pubescent annoying little buggers, spouting crappy one liners like, \"THIS IS SPARTA!\" and, \"IM RICK JAMES BITCH\" so these movies will continue to make some form of monetary gain, considering the production value of this movie looks like it cost about 10 cents to make.Don't see this movie. Don't spend any money on it. Go home, rent Airplane, laugh your ass off, and ...</td>\n",
       "      <td>Disaster Movie</td>\n",
       "      <td>Realmente, eu poderia escrever uma crítica contundente sobre esse sanduíche de cocô, mas, em vez disso, vou fazer algumas observações e pontos que deduzi. Não há mais sentido assistir a esses filmes. Algum leitor por aí se lembra do filme de terror? Lembra como era original, com alguns elementos cômicos? Havia palhaçada, algumas frases engraçadas, era uma comédia bastante esquecível, mas valia o preço da entrada. Bem, essa foi a última vez que essa premissa foi engraçada. PARE DE FAZER ESTES FILMES. POR FAVOR, eu poderia pedir um boicote a esses pedaços de macaco, mas todos sabemos que haverá uma fila de buggers irritantes e pré-pubescentes, jorrando uns forros ruins como: \"ISTO É SPARTA!\" e \"IM RICK JAMES BITCH\", para que esses filmes continuem gerando algum ganho monetário, considerando que o valor de produção deste filme parece custar cerca de 10 centavos de dólar. Não gaste dinheiro com isso. Vá para casa, alugue a Airplane, ria e julgue silenciosamente as pessoas que estão fal...</td>\n",
       "      <td>really write scathing review turd sandwich instead going making observations points deduced point watching movies anymore reader remember scary movie remember original comedic elements slapstick funny lines pretty forgettable comedy worth price admission well last time premise funny stop making movies please call boycott pieces monkey sh know going line pre pubescent annoying little buggers spouting crappy one liners like sparta im rick james bitch movies continue make form monetary gain considering production value movie looks like cost cents make not see movie not spend money go home rent airplane laugh ass silently judge people talking movie monday favor</td>\n",
       "    </tr>\n",
       "    <tr>\n",
       "      <th>3</th>\n",
       "      <td>1.0</td>\n",
       "      <td>If you saw the other previous spoof movies by these two horrible gentlemen, then you should know that this already will be bad. I'll tell you the truth, if you want to watch it as a brainless person (ironically meant for the stereotypical teenagers, which I am not) then you will laugh at it a bit. But if you judge it, even a little, the movie automatically fails. Why? Never ask that when it comes to these two men.Remember the good old Hollywood days whenever making a movie was about showing people a type of art, and also a story that kept you on the edge of your seat? Well whenever word hit that making films earned you loads of cash, then all these greedy people came in the picture and its quite pathetic. These two are no exception. We still have movie artists (most notably the genius that is Christopher Nolan). But these two guys just...well I've been writing so big words, let me put it in simple terms for these guys...These guys suck, they are not artists, but instead money cravi...</td>\n",
       "      <td>Disaster Movie</td>\n",
       "      <td>Se você viu os outros filmes falsificados anteriores por esses dois senhores horríveis, deve saber que isso já será ruim. Vou lhe dizer a verdade, se você quiser vê-lo como uma pessoa sem cérebro (ironicamente para os adolescentes estereotipados, o que eu não sou), então você rirá um pouco. Mas se você julgar, mesmo que um pouco, o filme falha automaticamente. Por quê? Nunca pergunte isso quando se trata desses dois homens. Lembre-se dos bons e velhos tempos de Hollywood, sempre que fazer um filme era mostrar às pessoas um tipo de arte e também uma história que o mantinha na ponta do seu assento? Bem, sempre que a notícia de que fazer filmes ganhava muito dinheiro, então todas essas pessoas gananciosas apareciam na imagem e é bastante patético. Esses dois não são exceção. Ainda temos artistas de filmes (principalmente o gênio Christopher Nolan). Mas esses dois caras simplesmente ... bem, eu tenho escrito palavras tão grandes, deixe-me colocar em termos simples para esses caras ... ...</td>\n",
       "      <td>saw previous spoof movies two horrible gentlemen know already bad tell truth want watch brainless person ironically meant stereotypical teenagers not laugh bit judge even little movie automatically fails never ask comes two men remember good old hollywood days whenever making movie showing people type art also story kept edge seat well whenever word hit making films earned loads cash greedy people came picture quite pathetic two exception still movie artists notably genius christopher nolan two guys well writing big words let put simple terms guys guys suck not artists instead money craving whores latest movie proves even movie fails easily mind blowing mean nothing funny trailer people usually put best stuff like idiots sometimes knew going bad made bet friends not good idea write movie reviews paper tell everyone whats good whats bad friends flipped review well warning least not even called movie nothing artistic original jokes sorry references made throughout pretty much random ...</td>\n",
       "    </tr>\n",
       "    <tr>\n",
       "      <th>4</th>\n",
       "      <td>1.0</td>\n",
       "      <td>This movie I saw a day early for free and I still feel like I got ripped off. It is totally brain dead. Burping, kicking in the groin and boobs all over the place. Lame. What is wrong with society, that films like this even get made? The parodies were all horrendous, and un-funny. The plot was lackluster at best and the acting was shallow, transparent and really quite unnecessary.Anyone see \"Idiocracy\"? Remember the movie that won all the academy awards in the future? Well this is that movie. I have not seen a more rancid crappy film. \"Date Movie\" was okay, The Scary movies at least had decent plots, but this, this makes \"spoofs\" (if I can be so nice to call it that) for this year 0 for 3, with \"Meet the Spartans\" and \"Superhero Movie\" all falling flat.Well I've wasted even more of my life typing about this sack of cow dung. So all in all, don't see this movie, unless of course your IQ is below 80.Thanks, R</td>\n",
       "      <td>Disaster Movie</td>\n",
       "      <td>Este filme eu vi um dia cedo de graça e ainda sinto que fui enganado. É totalmente morte cerebral. Arrotando, chutando a virilha e os peitos por todo o lugar. Coxo. O que há de errado com a sociedade, que filmes como esse são feitos? As paródias eram todas horrendas e pouco engraçadas. O enredo foi sem brilho, na melhor das hipóteses, e a atuação foi superficial, transparente e realmente bastante desnecessária. Alguém vê \"Idiocracia\"? Lembra do filme que ganhou todos os prêmios da academia no futuro? Bem, este é esse filme. Eu não vi um filme de baixa qualidade mais rançoso. \"Date Movie\" foi bom, The Scary Movies pelo menos teve enredos decentes, mas isso faz \"spoofs\" (se é que posso dizer assim) para este ano 0 para 3, com \"Meet the Spartans\" e \"Filme de super-heróis\" todos caindo. Bem, eu perdi ainda mais da minha vida digitando sobre esse saco de esterco de vaca. Então, apesar de tudo, não assista a este filme, a menos que o seu QI seja inferior a 80.</td>\n",
       "      <td>movie saw day early free still feel like got ripped totally brain dead burping kicking groin boobs place lame wrong society films like even get made parodies horrendous un funny plot lackluster best acting shallow transparent really quite unnecessary anyone see idiocracy remember movie academy awards future well movie not seen rancid crappy film date movie okay scary movies least decent plots makes spoofs nice call year meet spartans superhero movie falling flat well wasted even life typing sack cow dung not see movie unless course iq thanks r</td>\n",
       "    </tr>\n",
       "  </tbody>\n",
       "</table>\n",
       "</div>"
      ],
      "text/plain": [
       "   Ratings  \\\n",
       "0      1.0   \n",
       "1      1.0   \n",
       "2      1.0   \n",
       "3      1.0   \n",
       "4      1.0   \n",
       "\n",
       "                                                                                                                                                                                                                                                                                                                                                                                                                                                                                                                                                                                                                                                                                                                                                                                                                                                                                                                                                                                                                                   Reviews  \\\n",
       "0  *Disclaimer: I only watched this movie as a conditional agreement. And I see films for free. I wouldn't be caught dead giving my hard earned money to these idiots.Well, to explain the depth of this 'film', I could write my shortest review, ever. Don't see this movie. It is by far the stupidest, lamest, most lazy, and unbelievably UNFUNNY movie I have ever seen. It is a total disaster. But since my hatred for this movie, and the others like it, extends far beyond one viewing, I think I'll go on for a bit.I don't know any of the people in the movie besides Carmen Electra, Vanessa Minnillo, and Kim Kardashian, but it doesn't matter. They're all horrible, though I think that was the point. The editing is flat out horrible, and possibly blatant continuity errors make this crapfast even crappier than I thought it would be. Now I know that these films are not supposed to be serious at all, but come on, it's film-making 101 that if someone gets a minor facial cut, it should be there in the...   \n",
       "1  I am writing this in hopes that this gets put over the previous review of this \"film\". How anyone can find this slop entertaining is completely beyond me. First of all a spoof film entitled \"Disaster Movie\", should indeed be a spoof on disaster films. Now I have seen 1 (yes count them, 1) disaster film being spoofed, that being \"Twister\". How does Juno, Iron Man, Batman, The Hulk, Alvin and the Chipmunks, Amy Winehouse, or Hancock register as Disaster films? Selzterwater and Failburg once again have shown that they lack any sort of writing skill and humor. Having unfortunately been tortured with Date Movie and Epic Movie I know exactly what to expect from these two...no plot, no jokes just bad references and cheaply remade scenes from other films. Someone should have informed them that satire is more than just copy and paste from one film to another, though I shouldn't say that because some of these actually just seem to be taken from trailers.There is nothing clever or witty or re...   \n",
       "2  Really, I could write a scathing review of this turd sandwich, but instead, I'm just going to be making a few observations and points I've deduced.There's just no point in watching these movies anymore. Does any reader out there remember Scary Movie? Remember how it was original with a few comedic elements to it? There was slapstick, some funny lines, it was a pretty forgettable comedy, but it was worth the price of admission. Well, That was the last time this premise was funny. STOP MAKING THESE MOVIES. PLEASE.I could call for a boycott of these pieces of monkey sh*t, but we all know there's going to be a line up of pre pubescent annoying little buggers, spouting crappy one liners like, \"THIS IS SPARTA!\" and, \"IM RICK JAMES BITCH\" so these movies will continue to make some form of monetary gain, considering the production value of this movie looks like it cost about 10 cents to make.Don't see this movie. Don't spend any money on it. Go home, rent Airplane, laugh your ass off, and ...   \n",
       "3  If you saw the other previous spoof movies by these two horrible gentlemen, then you should know that this already will be bad. I'll tell you the truth, if you want to watch it as a brainless person (ironically meant for the stereotypical teenagers, which I am not) then you will laugh at it a bit. But if you judge it, even a little, the movie automatically fails. Why? Never ask that when it comes to these two men.Remember the good old Hollywood days whenever making a movie was about showing people a type of art, and also a story that kept you on the edge of your seat? Well whenever word hit that making films earned you loads of cash, then all these greedy people came in the picture and its quite pathetic. These two are no exception. We still have movie artists (most notably the genius that is Christopher Nolan). But these two guys just...well I've been writing so big words, let me put it in simple terms for these guys...These guys suck, they are not artists, but instead money cravi...   \n",
       "4                                                                                 This movie I saw a day early for free and I still feel like I got ripped off. It is totally brain dead. Burping, kicking in the groin and boobs all over the place. Lame. What is wrong with society, that films like this even get made? The parodies were all horrendous, and un-funny. The plot was lackluster at best and the acting was shallow, transparent and really quite unnecessary.Anyone see \"Idiocracy\"? Remember the movie that won all the academy awards in the future? Well this is that movie. I have not seen a more rancid crappy film. \"Date Movie\" was okay, The Scary movies at least had decent plots, but this, this makes \"spoofs\" (if I can be so nice to call it that) for this year 0 for 3, with \"Meet the Spartans\" and \"Superhero Movie\" all falling flat.Well I've wasted even more of my life typing about this sack of cow dung. So all in all, don't see this movie, unless of course your IQ is below 80.Thanks, R   \n",
       "\n",
       "           Movies  \\\n",
       "0  Disaster Movie   \n",
       "1  Disaster Movie   \n",
       "2  Disaster Movie   \n",
       "3  Disaster Movie   \n",
       "4  Disaster Movie   \n",
       "\n",
       "                                                                                                                                                                                                                                                                                                                                                                                                                                                                                                                                                                                                                                                                                                                                                                                                                                                                                                                                                                                                                                  Resenhas  \\\n",
       "0  * Isenção de responsabilidade: eu só assisti esse filme como um acordo condicional. E eu vejo filmes de graça. Eu não seria pego morto dando meu dinheiro suado a esses idiotas. Bem, para explicar a profundidade desse 'filme', eu poderia escrever minha crítica mais curta de todos os tempos. Não vê este filme. É de longe o filme mais estúpido, lamenta, preguiçoso e inacreditavelmente UNFUNNY que eu já vi. É um desastre total. Mas como o meu ódio por este filme e por outros, se estende muito além de uma exibição, acho que vou continuar um pouco. Não conheço nenhuma das pessoas do filme além de Carmen Electra, Vanessa Minnillo, e Kim Kardashian, mas isso não importa. Eles são todos horríveis, embora eu ache que esse seja o ponto. A edição é horrível e, possivelmente, erros de continuidade flagrantes tornam essa porcaria ainda mais horrível do que eu pensava. Agora eu sei que esses filmes não devem ser sérios, mas vamos lá, é o cinema 101 que se alguém fizer um pequeno corte facial, ele...   \n",
       "1  Estou escrevendo isso na esperança de que isso seja colocado sobre a revisão anterior deste \"filme\". Como alguém pode achar divertido esse desleixo está completamente além de mim. Antes de mais nada, um filme de paródia intitulado \"Filme de desastre\" deveria ser, de fato, uma paródia de filmes de desastre. Agora eu já vi 1 (sim, conte-os, 1) filme de desastre sendo falsificado, sendo \"Twister\". Como Juno, Homem de Ferro, Batman, O Hulk, Alvin e os Esquilos, Amy Winehouse ou Hancock se registram como filmes de Desastre? Selzterwater e Failburg mostraram mais uma vez que não possuem nenhum tipo de habilidade e humor de escrita. Infelizmente, tendo sido torturado com Date Movie e Epic Movie, sei exatamente o que esperar desses dois ... nenhum enredo, nenhuma piada, apenas más referências e cenas refeitas de outros filmes. Alguém deveria ter informado a eles que a sátira é mais do que apenas copiar e colar de um filme para outro, embora eu não deva dizer isso porque alguns deles realme...   \n",
       "2  Realmente, eu poderia escrever uma crítica contundente sobre esse sanduíche de cocô, mas, em vez disso, vou fazer algumas observações e pontos que deduzi. Não há mais sentido assistir a esses filmes. Algum leitor por aí se lembra do filme de terror? Lembra como era original, com alguns elementos cômicos? Havia palhaçada, algumas frases engraçadas, era uma comédia bastante esquecível, mas valia o preço da entrada. Bem, essa foi a última vez que essa premissa foi engraçada. PARE DE FAZER ESTES FILMES. POR FAVOR, eu poderia pedir um boicote a esses pedaços de macaco, mas todos sabemos que haverá uma fila de buggers irritantes e pré-pubescentes, jorrando uns forros ruins como: \"ISTO É SPARTA!\" e \"IM RICK JAMES BITCH\", para que esses filmes continuem gerando algum ganho monetário, considerando que o valor de produção deste filme parece custar cerca de 10 centavos de dólar. Não gaste dinheiro com isso. Vá para casa, alugue a Airplane, ria e julgue silenciosamente as pessoas que estão fal...   \n",
       "3  Se você viu os outros filmes falsificados anteriores por esses dois senhores horríveis, deve saber que isso já será ruim. Vou lhe dizer a verdade, se você quiser vê-lo como uma pessoa sem cérebro (ironicamente para os adolescentes estereotipados, o que eu não sou), então você rirá um pouco. Mas se você julgar, mesmo que um pouco, o filme falha automaticamente. Por quê? Nunca pergunte isso quando se trata desses dois homens. Lembre-se dos bons e velhos tempos de Hollywood, sempre que fazer um filme era mostrar às pessoas um tipo de arte e também uma história que o mantinha na ponta do seu assento? Bem, sempre que a notícia de que fazer filmes ganhava muito dinheiro, então todas essas pessoas gananciosas apareciam na imagem e é bastante patético. Esses dois não são exceção. Ainda temos artistas de filmes (principalmente o gênio Christopher Nolan). Mas esses dois caras simplesmente ... bem, eu tenho escrito palavras tão grandes, deixe-me colocar em termos simples para esses caras ... ...   \n",
       "4                                 Este filme eu vi um dia cedo de graça e ainda sinto que fui enganado. É totalmente morte cerebral. Arrotando, chutando a virilha e os peitos por todo o lugar. Coxo. O que há de errado com a sociedade, que filmes como esse são feitos? As paródias eram todas horrendas e pouco engraçadas. O enredo foi sem brilho, na melhor das hipóteses, e a atuação foi superficial, transparente e realmente bastante desnecessária. Alguém vê \"Idiocracia\"? Lembra do filme que ganhou todos os prêmios da academia no futuro? Bem, este é esse filme. Eu não vi um filme de baixa qualidade mais rançoso. \"Date Movie\" foi bom, The Scary Movies pelo menos teve enredos decentes, mas isso faz \"spoofs\" (se é que posso dizer assim) para este ano 0 para 3, com \"Meet the Spartans\" e \"Filme de super-heróis\" todos caindo. Bem, eu perdi ainda mais da minha vida digitando sobre esse saco de esterco de vaca. Então, apesar de tudo, não assista a este filme, a menos que o seu QI seja inferior a 80.   \n",
       "\n",
       "                                                                                                                                                                                                                                                                                                                                                                                                                                                                                                                                                                                                                                                                                                                                                                                                                                                                                                                                                                                                                             Reviews_clean  \n",
       "0  disclaimer watched movie conditional agreement see films free not caught dead giving hard earned money idiots well explain depth film write shortest review ever not see movie far stupidest lamest lazy unbelievably unfunny movie ever seen total disaster since hatred movie others like extends far beyond one viewing think go bit not know people movie besides carmen electra vanessa minnillo kim kardashian not matter horrible though think point editing flat horrible possibly blatant continuity errors make crapfast even crappier thought know films not supposed serious come film making someone gets minor facial cut next shot someone gets cut sword blood least cut though since narnia films get away give disaster movie pass jokes thoughtless mindless physical gags obviously take popular movies last year late well including best picture nominees know saddest thing stupid movies not care much money make many cameos sorry ass excuses films taking away jobs actors writers directors truly deserv...  \n",
       "1                                                               writing hopes gets put previous review film anyone find slop entertaining completely beyond first spoof film entitled disaster movie indeed spoof disaster films seen yes count disaster film spoofed twister juno iron man batman hulk alvin chipmunks amy winehouse hancock register disaster films selzterwater failburg shown lack sort writing skill humor unfortunately tortured date movie epic movie know exactly expect two plot jokes bad references cheaply remade scenes films someone informed satire copy paste one film another though not say actually seem taken trailers nothing clever witty remotely smart way two write not believe people still pay see travesties insult audience though enjoy films doubt smart enough realize rating unfortunately not number low enough yes includes negatives rate deserves top worst films time right date movie epic faliure mean movie meet spartans rather forced hour manos hands fate marathon watch slop  \n",
       "2                                                                                                                                                                                                                                                                                                                                                really write scathing review turd sandwich instead going making observations points deduced point watching movies anymore reader remember scary movie remember original comedic elements slapstick funny lines pretty forgettable comedy worth price admission well last time premise funny stop making movies please call boycott pieces monkey sh know going line pre pubescent annoying little buggers spouting crappy one liners like sparta im rick james bitch movies continue make form monetary gain considering production value movie looks like cost cents make not see movie not spend money go home rent airplane laugh ass silently judge people talking movie monday favor  \n",
       "3  saw previous spoof movies two horrible gentlemen know already bad tell truth want watch brainless person ironically meant stereotypical teenagers not laugh bit judge even little movie automatically fails never ask comes two men remember good old hollywood days whenever making movie showing people type art also story kept edge seat well whenever word hit making films earned loads cash greedy people came picture quite pathetic two exception still movie artists notably genius christopher nolan two guys well writing big words let put simple terms guys guys suck not artists instead money craving whores latest movie proves even movie fails easily mind blowing mean nothing funny trailer people usually put best stuff like idiots sometimes knew going bad made bet friends not good idea write movie reviews paper tell everyone whats good whats bad friends flipped review well warning least not even called movie nothing artistic original jokes sorry references made throughout pretty much random ...  \n",
       "4                                                                                                                                                                                                                                                                                                                                                                                                                                                                    movie saw day early free still feel like got ripped totally brain dead burping kicking groin boobs place lame wrong society films like even get made parodies horrendous un funny plot lackluster best acting shallow transparent really quite unnecessary anyone see idiocracy remember movie academy awards future well movie not seen rancid crappy film date movie okay scary movies least decent plots makes spoofs nice call year meet spartans superhero movie falling flat well wasted even life typing sack cow dung not see movie unless course iq thanks r  "
      ]
     },
     "execution_count": 40,
     "metadata": {},
     "output_type": "execute_result"
    }
   ],
   "source": [
    "%%time\n",
    "pd.options.display.max_colwidth = 1000\n",
    "#Data cleaning\n",
    "df['Reviews_clean']=df['Reviews'].apply(data_cleaning)\n",
    "df.head(5)"
   ]
  },
  {
   "cell_type": "code",
   "execution_count": 41,
   "metadata": {},
   "outputs": [
    {
     "data": {
      "text/plain": [
       "Ratings           0\n",
       "Reviews           0\n",
       "Movies           25\n",
       "Resenhas          0\n",
       "Reviews_clean     0\n",
       "dtype: int64"
      ]
     },
     "execution_count": 41,
     "metadata": {},
     "output_type": "execute_result"
    }
   ],
   "source": [
    "#Checking for missing value\n",
    "df.isna().sum()"
   ]
  },
  {
   "cell_type": "code",
   "execution_count": null,
   "metadata": {},
   "outputs": [],
   "source": []
  }
 ],
 "metadata": {
  "kernelspec": {
   "display_name": "venv",
   "language": "python",
   "name": "python3"
  },
  "language_info": {
   "codemirror_mode": {
    "name": "ipython",
    "version": 3
   },
   "file_extension": ".py",
   "mimetype": "text/x-python",
   "name": "python",
   "nbconvert_exporter": "python",
   "pygments_lexer": "ipython3",
   "version": "3.11.0"
  }
 },
 "nbformat": 4,
 "nbformat_minor": 2
}
